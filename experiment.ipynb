{
 "cells": [
  {
   "cell_type": "code",
   "execution_count": 1,
   "metadata": {},
   "outputs": [
    {
     "name": "stderr",
     "output_type": "stream",
     "text": [
      "/home/azharichenko/.local/share/virtualenvs/kelly-criterion-rl-xIioxHR7/lib/python3.8/site-packages/gym/logger.py:30: UserWarning: \u001b[33mWARN: Box bound precision lowered by casting to float32\u001b[0m\n",
      "  warnings.warn(colorize('%s: %s'%('WARN', msg % args), 'yellow'))\n"
     ]
    }
   ],
   "source": [
    "import gym\n",
    "import kelly_gym\n",
    "from kelly_gym.envs import KellyEnv\n",
    "\n",
    "import numpy as np\n",
    "\n",
    "env = gym.make(\"Kelly-v0\")"
   ]
  },
  {
   "cell_type": "code",
   "execution_count": 5,
   "metadata": {},
   "outputs": [
    {
     "data": {
      "text/html": [
       "== Status ==<br>Memory usage on this node: 11.8/15.8 GiB<br>Using FIFO scheduling algorithm.<br>Resources requested: 3/8 CPUs, 0/0 GPUs, 0.0/2.49 GiB heap, 0.0/0.83 GiB objects<br>Result logdir: /mnt/c/Users/Alex/Projects/kelly-criterion-rl/A3C<br>Number of trials: 1 (1 RUNNING)<br><table>\n",
       "<thead>\n",
       "<tr><th>Trial name              </th><th>status  </th><th>loc  </th></tr>\n",
       "</thead>\n",
       "<tbody>\n",
       "<tr><td>A3C_KellyEnv_6dd51_00000</td><td>RUNNING </td><td>     </td></tr>\n",
       "</tbody>\n",
       "</table><br><br>"
      ],
      "text/plain": [
       "<IPython.core.display.HTML object>"
      ]
     },
     "metadata": {},
     "output_type": "display_data"
    },
    {
     "name": "stderr",
     "output_type": "stream",
     "text": [
      "\u001b[2m\u001b[36m(pid=16943)\u001b[0m 2020-09-30 20:31:22,792\tINFO trainer.py:630 -- Current log_level is WARN. For more information, set 'log_level': 'INFO' / 'DEBUG' or use the -v and -vv flags.\n",
      "\u001b[2m\u001b[36m(pid=16943)\u001b[0m 2020-09-30 20:31:22,792\tWARNING a3c.py:59 -- `sample_async=True` is not supported for PyTorch! Multithreading can lead to crashes.\n",
      "\u001b[2m\u001b[36m(pid=16943)\u001b[0m /home/azharichenko/.local/share/virtualenvs/kelly-criterion-rl-xIioxHR7/lib/python3.8/site-packages/gym/logger.py:30: UserWarning: \u001b[33mWARN: Box bound precision lowered by casting to float32\u001b[0m\n",
      "\u001b[2m\u001b[36m(pid=16943)\u001b[0m   warnings.warn(colorize('%s: %s'%('WARN', msg % args), 'yellow'))\n",
      "\u001b[2m\u001b[36m(pid=16943)\u001b[0m 2020-09-30 20:31:22,862\tWARNING util.py:37 -- Install gputil for GPU system monitoring.\n",
      "\u001b[2m\u001b[36m(pid=16931)\u001b[0m /home/azharichenko/.local/share/virtualenvs/kelly-criterion-rl-xIioxHR7/lib/python3.8/site-packages/gym/logger.py:30: UserWarning: \u001b[33mWARN: Box bound precision lowered by casting to float32\u001b[0m\n",
      "\u001b[2m\u001b[36m(pid=16931)\u001b[0m   warnings.warn(colorize('%s: %s'%('WARN', msg % args), 'yellow'))\n",
      "\u001b[2m\u001b[36m(pid=16931)\u001b[0m /home/azharichenko/.local/share/virtualenvs/kelly-criterion-rl-xIioxHR7/lib/python3.8/site-packages/ray/rllib/utils/torch_ops.py:149: UserWarning: The given NumPy array is not writeable, and PyTorch does not support non-writeable tensors. This means you can write to the underlying (supposedly non-writeable) NumPy array using the tensor. You may want to copy the array to protect its data or make it writeable before converting it to a tensor. This type of warning will be suppressed for the rest of this program. (Triggered internally at  /pytorch/torch/csrc/utils/tensor_numpy.cpp:141.)\n",
      "\u001b[2m\u001b[36m(pid=16931)\u001b[0m   tensor = torch.from_numpy(np.asarray(item))\n"
     ]
    },
    {
     "name": "stdout",
     "output_type": "stream",
     "text": [
      "Result for A3C_KellyEnv_6dd51_00000:\n",
      "  custom_metrics: {}\n",
      "  date: 2020-09-30_20-31-27\n",
      "  done: false\n",
      "  episode_len_mean: 5.838709677419355\n",
      "  episode_reward_max: 42.408\n",
      "  episode_reward_mean: -10.094516129032256\n",
      "  episode_reward_min: -39.972\n",
      "  episodes_this_iter: 31\n",
      "  episodes_total: 31\n",
      "  experiment_id: 095ee8103e134f42be12b40d8e39f6a2\n",
      "  experiment_tag: '0'\n",
      "  hostname: LAPTOP-Alex\n",
      "  info:\n",
      "    learner:\n",
      "      grad_gnorm: 10165.2451171875\n",
      "      policy_entropy: 2.1119227409362793\n",
      "      policy_loss: 2022.693115234375\n",
      "      vf_loss: 2973.333984375\n",
      "    num_steps_sampled: 100\n",
      "    num_steps_trained: 100\n",
      "  iterations_since_restore: 1\n",
      "  node_ip: 192.168.86.161\n",
      "  num_healthy_workers: 2\n",
      "  off_policy_estimator: {}\n",
      "  perf:\n",
      "    cpu_util_percent: 56.84285714285714\n",
      "    ram_util_percent: 75.97142857142856\n",
      "  pid: 16943\n",
      "  policy_reward_max: {}\n",
      "  policy_reward_mean: {}\n",
      "  policy_reward_min: {}\n",
      "  sampler_perf:\n",
      "    mean_env_wait_ms: 1.1524636724477635\n",
      "    mean_inference_ms: 1.7168815534485393\n",
      "    mean_processing_ms: 3.2677175012851403\n",
      "  time_since_restore: 4.496991157531738\n",
      "  time_this_iter_s: 4.496991157531738\n",
      "  time_total_s: 4.496991157531738\n",
      "  timers:\n",
      "    apply_grad_throughput: 22894.672\n",
      "    apply_grad_time_ms: 4.368\n",
      "    grad_wait_time_ms: 4433.304\n",
      "    update_time_ms: 1.259\n",
      "  timestamp: 1601512287\n",
      "  timesteps_since_restore: 0\n",
      "  timesteps_total: 100\n",
      "  training_iteration: 1\n",
      "  trial_id: 6dd51_00000\n",
      "  \n"
     ]
    },
    {
     "name": "stderr",
     "output_type": "stream",
     "text": [
      "\u001b[2m\u001b[36m(pid=17118)\u001b[0m /home/azharichenko/.local/share/virtualenvs/kelly-criterion-rl-xIioxHR7/lib/python3.8/site-packages/gym/logger.py:30: UserWarning: \u001b[33mWARN: Box bound precision lowered by casting to float32\u001b[0m\n",
      "\u001b[2m\u001b[36m(pid=17118)\u001b[0m   warnings.warn(colorize('%s: %s'%('WARN', msg % args), 'yellow'))\n",
      "\u001b[2m\u001b[36m(pid=17118)\u001b[0m /home/azharichenko/.local/share/virtualenvs/kelly-criterion-rl-xIioxHR7/lib/python3.8/site-packages/ray/rllib/utils/torch_ops.py:149: UserWarning: The given NumPy array is not writeable, and PyTorch does not support non-writeable tensors. This means you can write to the underlying (supposedly non-writeable) NumPy array using the tensor. You may want to copy the array to protect its data or make it writeable before converting it to a tensor. This type of warning will be suppressed for the rest of this program. (Triggered internally at  /pytorch/torch/csrc/utils/tensor_numpy.cpp:141.)\n",
      "\u001b[2m\u001b[36m(pid=17118)\u001b[0m   tensor = torch.from_numpy(np.asarray(item))\n",
      "\u001b[2m\u001b[36m(pid=16943)\u001b[0m /home/azharichenko/.local/share/virtualenvs/kelly-criterion-rl-xIioxHR7/lib/python3.8/site-packages/ray/rllib/policy/torch_policy.py:413: UserWarning: The given NumPy array is not writeable, and PyTorch does not support non-writeable tensors. This means you can write to the underlying (supposedly non-writeable) NumPy array using the tensor. You may want to copy the array to protect its data or make it writeable before converting it to a tensor. This type of warning will be suppressed for the rest of this program. (Triggered internally at  /pytorch/torch/csrc/utils/tensor_numpy.cpp:141.)\n",
      "\u001b[2m\u001b[36m(pid=16943)\u001b[0m   p.grad = torch.from_numpy(g).to(self.device)\n"
     ]
    },
    {
     "data": {
      "text/html": [
       "== Status ==<br>Memory usage on this node: 12.1/15.8 GiB<br>Using FIFO scheduling algorithm.<br>Resources requested: 3/8 CPUs, 0/0 GPUs, 0.0/2.49 GiB heap, 0.0/0.83 GiB objects<br>Result logdir: /mnt/c/Users/Alex/Projects/kelly-criterion-rl/A3C<br>Number of trials: 1 (1 RUNNING)<br><table>\n",
       "<thead>\n",
       "<tr><th>Trial name              </th><th>status  </th><th>loc                 </th><th style=\"text-align: right;\">  iter</th><th style=\"text-align: right;\">  total time (s)</th><th style=\"text-align: right;\">  ts</th><th style=\"text-align: right;\">  reward</th></tr>\n",
       "</thead>\n",
       "<tbody>\n",
       "<tr><td>A3C_KellyEnv_6dd51_00000</td><td>RUNNING </td><td>192.168.86.161:16943</td><td style=\"text-align: right;\">     1</td><td style=\"text-align: right;\">         4.49699</td><td style=\"text-align: right;\"> 100</td><td style=\"text-align: right;\">-10.0945</td></tr>\n",
       "</tbody>\n",
       "</table><br><br>"
      ],
      "text/plain": [
       "<IPython.core.display.HTML object>"
      ]
     },
     "metadata": {},
     "output_type": "display_data"
    },
    {
     "name": "stdout",
     "output_type": "stream",
     "text": [
      "Result for A3C_KellyEnv_6dd51_00000:\n",
      "  custom_metrics: {}\n",
      "  date: 2020-09-30_20-31-32\n",
      "  done: false\n",
      "  episode_len_mean: 8.756806930693068\n",
      "  episode_reward_max: 67446.334\n",
      "  episode_reward_mean: 184.06399876237626\n",
      "  episode_reward_min: -84.88800000000005\n",
      "  episodes_this_iter: 1616\n",
      "  episodes_total: 1647\n",
      "  experiment_id: 095ee8103e134f42be12b40d8e39f6a2\n",
      "  experiment_tag: '0'\n",
      "  hostname: LAPTOP-Alex\n",
      "  info:\n",
      "    learner:\n",
      "      grad_gnorm: 10882.56640625\n",
      "      policy_entropy: 2.0644655227661133\n",
      "      policy_loss: 206.14370727539062\n",
      "      vf_loss: 7568.47314453125\n",
      "    num_steps_sampled: 14200\n",
      "    num_steps_trained: 14200\n",
      "  iterations_since_restore: 2\n",
      "  node_ip: 192.168.86.161\n",
      "  num_healthy_workers: 2\n",
      "  off_policy_estimator: {}\n",
      "  perf:\n",
      "    cpu_util_percent: 37.5\n",
      "    ram_util_percent: 76.39999999999999\n",
      "  pid: 16943\n",
      "  policy_reward_max: {}\n",
      "  policy_reward_mean: {}\n",
      "  policy_reward_min: {}\n",
      "  sampler_perf:\n",
      "    mean_env_wait_ms: 1.249419517850822\n",
      "    mean_inference_ms: 1.622333650944355\n",
      "    mean_processing_ms: 3.2917101193512375\n",
      "  time_since_restore: 9.541423797607422\n",
      "  time_this_iter_s: 5.044432640075684\n",
      "  time_total_s: 9.541423797607422\n",
      "  timers:\n",
      "    apply_grad_throughput: 68400.261\n",
      "    apply_grad_time_ms: 1.462\n",
      "    grad_wait_time_ms: 31.738\n",
      "    update_time_ms: 1.214\n",
      "  timestamp: 1601512292\n",
      "  timesteps_since_restore: 0\n",
      "  timesteps_total: 14200\n",
      "  training_iteration: 2\n",
      "  trial_id: 6dd51_00000\n",
      "  \n"
     ]
    },
    {
     "data": {
      "text/html": [
       "== Status ==<br>Memory usage on this node: 12.1/15.8 GiB<br>Using FIFO scheduling algorithm.<br>Resources requested: 3/8 CPUs, 0/0 GPUs, 0.0/2.49 GiB heap, 0.0/0.83 GiB objects<br>Result logdir: /mnt/c/Users/Alex/Projects/kelly-criterion-rl/A3C<br>Number of trials: 1 (1 RUNNING)<br><table>\n",
       "<thead>\n",
       "<tr><th>Trial name              </th><th>status  </th><th>loc                 </th><th style=\"text-align: right;\">  iter</th><th style=\"text-align: right;\">  total time (s)</th><th style=\"text-align: right;\">   ts</th><th style=\"text-align: right;\">  reward</th></tr>\n",
       "</thead>\n",
       "<tbody>\n",
       "<tr><td>A3C_KellyEnv_6dd51_00000</td><td>RUNNING </td><td>192.168.86.161:16943</td><td style=\"text-align: right;\">     2</td><td style=\"text-align: right;\">         9.54142</td><td style=\"text-align: right;\">14200</td><td style=\"text-align: right;\"> 184.064</td></tr>\n",
       "</tbody>\n",
       "</table><br><br>"
      ],
      "text/plain": [
       "<IPython.core.display.HTML object>"
      ]
     },
     "metadata": {},
     "output_type": "display_data"
    },
    {
     "name": "stdout",
     "output_type": "stream",
     "text": [
      "Result for A3C_KellyEnv_6dd51_00000:\n",
      "  custom_metrics: {}\n",
      "  date: 2020-09-30_20-31-37\n",
      "  done: false\n",
      "  episode_len_mean: 5.689905902480753\n",
      "  episode_reward_max: 1667198.3599999999\n",
      "  episode_reward_mean: 881.4248126603936\n",
      "  episode_reward_min: -58.76199999999998\n",
      "  episodes_this_iter: 2338\n",
      "  episodes_total: 3985\n",
      "  experiment_id: 095ee8103e134f42be12b40d8e39f6a2\n",
      "  experiment_tag: '0'\n",
      "  hostname: LAPTOP-Alex\n",
      "  info:\n",
      "    learner:\n",
      "      grad_gnorm: 75647.546875\n",
      "      policy_entropy: 1.5220640897750854\n",
      "      policy_loss: 22607.5625\n",
      "      vf_loss: 87922.2734375\n",
      "    num_steps_sampled: 27500\n",
      "    num_steps_trained: 27500\n",
      "  iterations_since_restore: 3\n",
      "  node_ip: 192.168.86.161\n",
      "  num_healthy_workers: 2\n",
      "  off_policy_estimator: {}\n",
      "  perf:\n",
      "    cpu_util_percent: 38.642857142857146\n",
      "    ram_util_percent: 76.18571428571428\n",
      "  pid: 16943\n",
      "  policy_reward_max: {}\n",
      "  policy_reward_mean: {}\n",
      "  policy_reward_min: {}\n",
      "  sampler_perf:\n",
      "    mean_env_wait_ms: 1.2626840978998444\n",
      "    mean_inference_ms: 1.6182593491958872\n",
      "    mean_processing_ms: 3.415955911782197\n",
      "  time_since_restore: 14.539530038833618\n",
      "  time_this_iter_s: 4.998106241226196\n",
      "  time_total_s: 14.539530038833618\n",
      "  timers:\n",
      "    apply_grad_throughput: 69663.566\n",
      "    apply_grad_time_ms: 1.435\n",
      "    grad_wait_time_ms: 33.046\n",
      "    update_time_ms: 1.172\n",
      "  timestamp: 1601512297\n",
      "  timesteps_since_restore: 0\n",
      "  timesteps_total: 27500\n",
      "  training_iteration: 3\n",
      "  trial_id: 6dd51_00000\n",
      "  \n"
     ]
    },
    {
     "data": {
      "text/html": [
       "== Status ==<br>Memory usage on this node: 12.0/15.8 GiB<br>Using FIFO scheduling algorithm.<br>Resources requested: 3/8 CPUs, 0/0 GPUs, 0.0/2.49 GiB heap, 0.0/0.83 GiB objects<br>Result logdir: /mnt/c/Users/Alex/Projects/kelly-criterion-rl/A3C<br>Number of trials: 1 (1 RUNNING)<br><table>\n",
       "<thead>\n",
       "<tr><th>Trial name              </th><th>status  </th><th>loc                 </th><th style=\"text-align: right;\">  iter</th><th style=\"text-align: right;\">  total time (s)</th><th style=\"text-align: right;\">   ts</th><th style=\"text-align: right;\">  reward</th></tr>\n",
       "</thead>\n",
       "<tbody>\n",
       "<tr><td>A3C_KellyEnv_6dd51_00000</td><td>RUNNING </td><td>192.168.86.161:16943</td><td style=\"text-align: right;\">     3</td><td style=\"text-align: right;\">         14.5395</td><td style=\"text-align: right;\">27500</td><td style=\"text-align: right;\"> 881.425</td></tr>\n",
       "</tbody>\n",
       "</table><br><br>"
      ],
      "text/plain": [
       "<IPython.core.display.HTML object>"
      ]
     },
     "metadata": {},
     "output_type": "display_data"
    },
    {
     "name": "stdout",
     "output_type": "stream",
     "text": [
      "Result for A3C_KellyEnv_6dd51_00000:\n",
      "  custom_metrics: {}\n",
      "  date: 2020-09-30_20-31-42\n",
      "  done: false\n",
      "  episode_len_mean: 6.0007102272727275\n",
      "  episode_reward_max: 27138.006\n",
      "  episode_reward_mean: 164.76623011363637\n",
      "  episode_reward_min: -54.942\n",
      "  episodes_this_iter: 1408\n",
      "  episodes_total: 5393\n",
      "  experiment_id: 095ee8103e134f42be12b40d8e39f6a2\n",
      "  experiment_tag: '0'\n",
      "  hostname: LAPTOP-Alex\n",
      "  info:\n",
      "    learner:\n",
      "      grad_gnorm: 40542.3359375\n",
      "      policy_entropy: 1.6321247816085815\n",
      "      policy_loss: 5920.62841796875\n",
      "      vf_loss: 27102.115234375\n",
      "    num_steps_sampled: 36000\n",
      "    num_steps_trained: 36000\n",
      "  iterations_since_restore: 4\n",
      "  node_ip: 192.168.86.161\n",
      "  num_healthy_workers: 2\n",
      "  off_policy_estimator: {}\n",
      "  perf:\n",
      "    cpu_util_percent: 57.5375\n",
      "    ram_util_percent: 76.3125\n",
      "  pid: 16943\n",
      "  policy_reward_max: {}\n",
      "  policy_reward_mean: {}\n",
      "  policy_reward_min: {}\n",
      "  sampler_perf:\n",
      "    mean_env_wait_ms: 1.423450644440663\n",
      "    mean_inference_ms: 1.8252487178141754\n",
      "    mean_processing_ms: 3.954194555821037\n",
      "  time_since_restore: 19.604907989501953\n",
      "  time_this_iter_s: 5.065377950668335\n",
      "  time_total_s: 19.604907989501953\n",
      "  timers:\n",
      "    apply_grad_throughput: 36247.788\n",
      "    apply_grad_time_ms: 2.759\n",
      "    grad_wait_time_ms: 59.698\n",
      "    update_time_ms: 1.86\n",
      "  timestamp: 1601512302\n",
      "  timesteps_since_restore: 0\n",
      "  timesteps_total: 36000\n",
      "  training_iteration: 4\n",
      "  trial_id: 6dd51_00000\n",
      "  \n"
     ]
    },
    {
     "data": {
      "text/html": [
       "== Status ==<br>Memory usage on this node: 12.1/15.8 GiB<br>Using FIFO scheduling algorithm.<br>Resources requested: 3/8 CPUs, 0/0 GPUs, 0.0/2.49 GiB heap, 0.0/0.83 GiB objects<br>Result logdir: /mnt/c/Users/Alex/Projects/kelly-criterion-rl/A3C<br>Number of trials: 1 (1 RUNNING)<br><table>\n",
       "<thead>\n",
       "<tr><th>Trial name              </th><th>status  </th><th>loc                 </th><th style=\"text-align: right;\">  iter</th><th style=\"text-align: right;\">  total time (s)</th><th style=\"text-align: right;\">   ts</th><th style=\"text-align: right;\">  reward</th></tr>\n",
       "</thead>\n",
       "<tbody>\n",
       "<tr><td>A3C_KellyEnv_6dd51_00000</td><td>RUNNING </td><td>192.168.86.161:16943</td><td style=\"text-align: right;\">     4</td><td style=\"text-align: right;\">         19.6049</td><td style=\"text-align: right;\">36000</td><td style=\"text-align: right;\"> 164.766</td></tr>\n",
       "</tbody>\n",
       "</table><br><br>"
      ],
      "text/plain": [
       "<IPython.core.display.HTML object>"
      ]
     },
     "metadata": {},
     "output_type": "display_data"
    },
    {
     "name": "stdout",
     "output_type": "stream",
     "text": [
      "Result for A3C_KellyEnv_6dd51_00000:\n",
      "  custom_metrics: {}\n",
      "  date: 2020-09-30_20-31-47\n",
      "  done: false\n",
      "  episode_len_mean: 4.837075718015666\n",
      "  episode_reward_max: 868306.344\n",
      "  episode_reward_mean: 655.4906558746737\n",
      "  episode_reward_min: -70.78999999999998\n",
      "  episodes_this_iter: 1915\n",
      "  episodes_total: 7308\n",
      "  experiment_id: 095ee8103e134f42be12b40d8e39f6a2\n",
      "  experiment_tag: '0'\n",
      "  hostname: LAPTOP-Alex\n",
      "  info:\n",
      "    learner:\n",
      "      grad_gnorm: 180974.65625\n",
      "      policy_entropy: 1.3236747980117798\n",
      "      policy_loss: 38636.0859375\n",
      "      vf_loss: 404622.375\n",
      "    num_steps_sampled: 45200\n",
      "    num_steps_trained: 45200\n",
      "  iterations_since_restore: 5\n",
      "  node_ip: 192.168.86.161\n",
      "  num_healthy_workers: 2\n",
      "  off_policy_estimator: {}\n",
      "  perf:\n",
      "    cpu_util_percent: 55.34285714285715\n",
      "    ram_util_percent: 76.37142857142858\n",
      "  pid: 16943\n",
      "  policy_reward_max: {}\n",
      "  policy_reward_mean: {}\n",
      "  policy_reward_min: {}\n",
      "  sampler_perf:\n",
      "    mean_env_wait_ms: 1.5047964938665113\n",
      "    mean_inference_ms: 1.9036113877297363\n",
      "    mean_processing_ms: 4.238521388194744\n",
      "  time_since_restore: 24.597223043441772\n",
      "  time_this_iter_s: 4.992315053939819\n",
      "  time_total_s: 24.597223043441772\n",
      "  timers:\n",
      "    apply_grad_throughput: 38330.05\n",
      "    apply_grad_time_ms: 2.609\n",
      "    grad_wait_time_ms: 58.536\n",
      "    update_time_ms: 2.116\n",
      "  timestamp: 1601512307\n",
      "  timesteps_since_restore: 0\n",
      "  timesteps_total: 45200\n",
      "  training_iteration: 5\n",
      "  trial_id: 6dd51_00000\n",
      "  \n"
     ]
    },
    {
     "data": {
      "text/html": [
       "== Status ==<br>Memory usage on this node: 12.1/15.8 GiB<br>Using FIFO scheduling algorithm.<br>Resources requested: 3/8 CPUs, 0/0 GPUs, 0.0/2.49 GiB heap, 0.0/0.83 GiB objects<br>Result logdir: /mnt/c/Users/Alex/Projects/kelly-criterion-rl/A3C<br>Number of trials: 1 (1 RUNNING)<br><table>\n",
       "<thead>\n",
       "<tr><th>Trial name              </th><th>status  </th><th>loc                 </th><th style=\"text-align: right;\">  iter</th><th style=\"text-align: right;\">  total time (s)</th><th style=\"text-align: right;\">   ts</th><th style=\"text-align: right;\">  reward</th></tr>\n",
       "</thead>\n",
       "<tbody>\n",
       "<tr><td>A3C_KellyEnv_6dd51_00000</td><td>RUNNING </td><td>192.168.86.161:16943</td><td style=\"text-align: right;\">     5</td><td style=\"text-align: right;\">         24.5972</td><td style=\"text-align: right;\">45200</td><td style=\"text-align: right;\"> 655.491</td></tr>\n",
       "</tbody>\n",
       "</table><br><br>"
      ],
      "text/plain": [
       "<IPython.core.display.HTML object>"
      ]
     },
     "metadata": {},
     "output_type": "display_data"
    },
    {
     "name": "stdout",
     "output_type": "stream",
     "text": [
      "Result for A3C_KellyEnv_6dd51_00000:\n",
      "  custom_metrics: {}\n",
      "  date: 2020-09-30_20-31-52\n",
      "  done: false\n",
      "  episode_len_mean: 4.900662251655629\n",
      "  episode_reward_max: 886342.4299999999\n",
      "  episode_reward_mean: 1081.9415570272258\n",
      "  episode_reward_min: -54.924\n",
      "  episodes_this_iter: 1359\n",
      "  episodes_total: 8667\n",
      "  experiment_id: 095ee8103e134f42be12b40d8e39f6a2\n",
      "  experiment_tag: '0'\n",
      "  hostname: LAPTOP-Alex\n",
      "  info:\n",
      "    learner:\n",
      "      grad_gnorm: 114099.5625\n",
      "      policy_entropy: 1.0385828018188477\n",
      "      policy_loss: 585.224365234375\n",
      "      vf_loss: 228249.265625\n",
      "    num_steps_sampled: 51900\n",
      "    num_steps_trained: 51900\n",
      "  iterations_since_restore: 6\n",
      "  node_ip: 192.168.86.161\n",
      "  num_healthy_workers: 2\n",
      "  off_policy_estimator: {}\n",
      "  perf:\n",
      "    cpu_util_percent: 70.65714285714286\n",
      "    ram_util_percent: 75.52857142857144\n",
      "  pid: 16943\n",
      "  policy_reward_max: {}\n",
      "  policy_reward_mean: {}\n",
      "  policy_reward_min: {}\n",
      "  sampler_perf:\n",
      "    mean_env_wait_ms: 1.6199030021341774\n",
      "    mean_inference_ms: 2.0474415499784198\n",
      "    mean_processing_ms: 4.620011447951527\n",
      "  time_since_restore: 29.511804342269897\n",
      "  time_this_iter_s: 4.914581298828125\n",
      "  time_total_s: 29.511804342269897\n",
      "  timers:\n",
      "    apply_grad_throughput: 41175.932\n",
      "    apply_grad_time_ms: 2.429\n",
      "    grad_wait_time_ms: 62.679\n",
      "    update_time_ms: 2.075\n",
      "  timestamp: 1601512312\n",
      "  timesteps_since_restore: 0\n",
      "  timesteps_total: 51900\n",
      "  training_iteration: 6\n",
      "  trial_id: 6dd51_00000\n",
      "  \n"
     ]
    },
    {
     "data": {
      "text/html": [
       "== Status ==<br>Memory usage on this node: 11.9/15.8 GiB<br>Using FIFO scheduling algorithm.<br>Resources requested: 3/8 CPUs, 0/0 GPUs, 0.0/2.49 GiB heap, 0.0/0.83 GiB objects<br>Result logdir: /mnt/c/Users/Alex/Projects/kelly-criterion-rl/A3C<br>Number of trials: 1 (1 RUNNING)<br><table>\n",
       "<thead>\n",
       "<tr><th>Trial name              </th><th>status  </th><th>loc                 </th><th style=\"text-align: right;\">  iter</th><th style=\"text-align: right;\">  total time (s)</th><th style=\"text-align: right;\">   ts</th><th style=\"text-align: right;\">  reward</th></tr>\n",
       "</thead>\n",
       "<tbody>\n",
       "<tr><td>A3C_KellyEnv_6dd51_00000</td><td>RUNNING </td><td>192.168.86.161:16943</td><td style=\"text-align: right;\">     6</td><td style=\"text-align: right;\">         29.5118</td><td style=\"text-align: right;\">51900</td><td style=\"text-align: right;\"> 1081.94</td></tr>\n",
       "</tbody>\n",
       "</table><br><br>"
      ],
      "text/plain": [
       "<IPython.core.display.HTML object>"
      ]
     },
     "metadata": {},
     "output_type": "display_data"
    },
    {
     "data": {
      "text/html": [
       "== Status ==<br>Memory usage on this node: 11.9/15.8 GiB<br>Using FIFO scheduling algorithm.<br>Resources requested: 3/8 CPUs, 0/0 GPUs, 0.0/2.49 GiB heap, 0.0/0.83 GiB objects<br>Result logdir: /mnt/c/Users/Alex/Projects/kelly-criterion-rl/A3C<br>Number of trials: 1 (1 RUNNING)<br><table>\n",
       "<thead>\n",
       "<tr><th>Trial name              </th><th>status  </th><th>loc                 </th><th style=\"text-align: right;\">  iter</th><th style=\"text-align: right;\">  total time (s)</th><th style=\"text-align: right;\">   ts</th><th style=\"text-align: right;\">  reward</th></tr>\n",
       "</thead>\n",
       "<tbody>\n",
       "<tr><td>A3C_KellyEnv_6dd51_00000</td><td>RUNNING </td><td>192.168.86.161:16943</td><td style=\"text-align: right;\">     7</td><td style=\"text-align: right;\">         34.4344</td><td style=\"text-align: right;\">59600</td><td style=\"text-align: right;\"> 361.595</td></tr>\n",
       "</tbody>\n",
       "</table><br><br>"
      ],
      "text/plain": [
       "<IPython.core.display.HTML object>"
      ]
     },
     "metadata": {},
     "output_type": "display_data"
    },
    {
     "name": "stdout",
     "output_type": "stream",
     "text": [
      "Result for A3C_KellyEnv_6dd51_00000:\n",
      "  custom_metrics: {}\n",
      "  date: 2020-09-30_20-32-02\n",
      "  done: false\n",
      "  episode_len_mean: 4.214871794871795\n",
      "  episode_reward_max: 339400.966\n",
      "  episode_reward_mean: 556.3659394871795\n",
      "  episode_reward_min: -51.992000000000004\n",
      "  episodes_this_iter: 1950\n",
      "  episodes_total: 11719\n",
      "  experiment_id: 095ee8103e134f42be12b40d8e39f6a2\n",
      "  experiment_tag: '0'\n",
      "  hostname: LAPTOP-Alex\n",
      "  info:\n",
      "    learner:\n",
      "      grad_gnorm: 279672.65625\n",
      "      policy_entropy: 0.8441559672355652\n",
      "      policy_loss: 13578.724609375\n",
      "      vf_loss: 372223.28125\n",
      "    num_steps_sampled: 67700\n",
      "    num_steps_trained: 67700\n",
      "  iterations_since_restore: 8\n",
      "  node_ip: 192.168.86.161\n",
      "  num_healthy_workers: 2\n",
      "  off_policy_estimator: {}\n",
      "  perf:\n",
      "    cpu_util_percent: 62.90000000000001\n",
      "    ram_util_percent: 75.15714285714286\n",
      "  pid: 16943\n",
      "  policy_reward_max: {}\n",
      "  policy_reward_mean: {}\n",
      "  policy_reward_min: {}\n",
      "  sampler_perf:\n",
      "    mean_env_wait_ms: 1.7080265645916637\n",
      "    mean_inference_ms: 2.168733796226503\n",
      "    mean_processing_ms: 4.94353546163987\n",
      "  time_since_restore: 39.29844689369202\n",
      "  time_this_iter_s: 4.864018201828003\n",
      "  time_total_s: 39.29844689369202\n",
      "  timers:\n",
      "    apply_grad_throughput: 44053.188\n",
      "    apply_grad_time_ms: 2.27\n",
      "    grad_wait_time_ms: 62.165\n",
      "    update_time_ms: 1.983\n",
      "  timestamp: 1601512322\n",
      "  timesteps_since_restore: 0\n",
      "  timesteps_total: 67700\n",
      "  training_iteration: 8\n",
      "  trial_id: 6dd51_00000\n",
      "  \n"
     ]
    },
    {
     "data": {
      "text/html": [
       "== Status ==<br>Memory usage on this node: 11.9/15.8 GiB<br>Using FIFO scheduling algorithm.<br>Resources requested: 3/8 CPUs, 0/0 GPUs, 0.0/2.49 GiB heap, 0.0/0.83 GiB objects<br>Result logdir: /mnt/c/Users/Alex/Projects/kelly-criterion-rl/A3C<br>Number of trials: 1 (1 RUNNING)<br><table>\n",
       "<thead>\n",
       "<tr><th>Trial name              </th><th>status  </th><th>loc                 </th><th style=\"text-align: right;\">  iter</th><th style=\"text-align: right;\">  total time (s)</th><th style=\"text-align: right;\">   ts</th><th style=\"text-align: right;\">  reward</th></tr>\n",
       "</thead>\n",
       "<tbody>\n",
       "<tr><td>A3C_KellyEnv_6dd51_00000</td><td>RUNNING </td><td>192.168.86.161:16943</td><td style=\"text-align: right;\">     8</td><td style=\"text-align: right;\">         39.2984</td><td style=\"text-align: right;\">67700</td><td style=\"text-align: right;\"> 556.366</td></tr>\n",
       "</tbody>\n",
       "</table><br><br>"
      ],
      "text/plain": [
       "<IPython.core.display.HTML object>"
      ]
     },
     "metadata": {},
     "output_type": "display_data"
    },
    {
     "name": "stdout",
     "output_type": "stream",
     "text": [
      "Result for A3C_KellyEnv_6dd51_00000:\n",
      "  custom_metrics: {}\n",
      "  date: 2020-09-30_20-32-07\n",
      "  done: false\n",
      "  episode_len_mean: 3.2054140127388533\n",
      "  episode_reward_max: 257760.24000000005\n",
      "  episode_reward_mean: 441.4266831210192\n",
      "  episode_reward_min: -51.806\n",
      "  episodes_this_iter: 1256\n",
      "  episodes_total: 12975\n",
      "  experiment_id: 095ee8103e134f42be12b40d8e39f6a2\n",
      "  experiment_tag: '0'\n",
      "  hostname: LAPTOP-Alex\n",
      "  info:\n",
      "    learner:\n",
      "      grad_gnorm: 46584.2265625\n",
      "      policy_entropy: 0.7889634966850281\n",
      "      policy_loss: 4742.8408203125\n",
      "      vf_loss: 47309.55078125\n",
      "    num_steps_sampled: 71800\n",
      "    num_steps_trained: 71800\n",
      "  iterations_since_restore: 9\n",
      "  node_ip: 192.168.86.161\n",
      "  num_healthy_workers: 2\n",
      "  off_policy_estimator: {}\n",
      "  perf:\n",
      "    cpu_util_percent: 81.8125\n",
      "    ram_util_percent: 75.3375\n",
      "  pid: 16943\n",
      "  policy_reward_max: {}\n",
      "  policy_reward_mean: {}\n",
      "  policy_reward_min: {}\n",
      "  sampler_perf:\n",
      "    mean_env_wait_ms: 1.8221001634695069\n",
      "    mean_inference_ms: 2.3193300049130974\n",
      "    mean_processing_ms: 5.36594287364359\n",
      "  time_since_restore: 44.25365376472473\n",
      "  time_this_iter_s: 4.955206871032715\n",
      "  time_total_s: 44.25365376472473\n",
      "  timers:\n",
      "    apply_grad_throughput: 12937.357\n",
      "    apply_grad_time_ms: 7.73\n",
      "    grad_wait_time_ms: 137.321\n",
      "    update_time_ms: 10.093\n",
      "  timestamp: 1601512327\n",
      "  timesteps_since_restore: 0\n",
      "  timesteps_total: 71800\n",
      "  training_iteration: 9\n",
      "  trial_id: 6dd51_00000\n",
      "  \n"
     ]
    },
    {
     "data": {
      "text/html": [
       "== Status ==<br>Memory usage on this node: 11.9/15.8 GiB<br>Using FIFO scheduling algorithm.<br>Resources requested: 3/8 CPUs, 0/0 GPUs, 0.0/2.49 GiB heap, 0.0/0.83 GiB objects<br>Result logdir: /mnt/c/Users/Alex/Projects/kelly-criterion-rl/A3C<br>Number of trials: 1 (1 RUNNING)<br><table>\n",
       "<thead>\n",
       "<tr><th>Trial name              </th><th>status  </th><th>loc                 </th><th style=\"text-align: right;\">  iter</th><th style=\"text-align: right;\">  total time (s)</th><th style=\"text-align: right;\">   ts</th><th style=\"text-align: right;\">  reward</th></tr>\n",
       "</thead>\n",
       "<tbody>\n",
       "<tr><td>A3C_KellyEnv_6dd51_00000</td><td>RUNNING </td><td>192.168.86.161:16943</td><td style=\"text-align: right;\">     9</td><td style=\"text-align: right;\">         44.2537</td><td style=\"text-align: right;\">71800</td><td style=\"text-align: right;\"> 441.427</td></tr>\n",
       "</tbody>\n",
       "</table><br><br>"
      ],
      "text/plain": [
       "<IPython.core.display.HTML object>"
      ]
     },
     "metadata": {},
     "output_type": "display_data"
    },
    {
     "name": "stdout",
     "output_type": "stream",
     "text": [
      "Result for A3C_KellyEnv_6dd51_00000:\n",
      "  custom_metrics: {}\n",
      "  date: 2020-09-30_20-32-12\n",
      "  done: false\n",
      "  episode_len_mean: 4.750846310088016\n",
      "  episode_reward_max: 535941.448\n",
      "  episode_reward_mean: 1226.7457061611374\n",
      "  episode_reward_min: -64.98599999999998\n",
      "  episodes_this_iter: 1477\n",
      "  episodes_total: 14452\n",
      "  experiment_id: 095ee8103e134f42be12b40d8e39f6a2\n",
      "  experiment_tag: '0'\n",
      "  hostname: LAPTOP-Alex\n",
      "  info:\n",
      "    learner:\n",
      "      grad_gnorm: 21031.294921875\n",
      "      policy_entropy: 0.7822437286376953\n",
      "      policy_loss: 5408.1201171875\n",
      "      vf_loss: 44001.7734375\n",
      "    num_steps_sampled: 78800\n",
      "    num_steps_trained: 78800\n",
      "  iterations_since_restore: 10\n",
      "  node_ip: 192.168.86.161\n",
      "  num_healthy_workers: 2\n",
      "  off_policy_estimator: {}\n",
      "  perf:\n",
      "    cpu_util_percent: 68.27142857142857\n",
      "    ram_util_percent: 75.7\n",
      "  pid: 16943\n",
      "  policy_reward_max: {}\n",
      "  policy_reward_mean: {}\n",
      "  policy_reward_min: {}\n",
      "  sampler_perf:\n",
      "    mean_env_wait_ms: 1.8752928945725325\n",
      "    mean_inference_ms: 2.3615746500846746\n",
      "    mean_processing_ms: 5.503611480494607\n",
      "  time_since_restore: 49.19242238998413\n",
      "  time_this_iter_s: 4.938768625259399\n",
      "  time_total_s: 49.19242238998413\n",
      "  timers:\n",
      "    apply_grad_throughput: 29297.402\n",
      "    apply_grad_time_ms: 3.413\n",
      "    grad_wait_time_ms: 75.239\n",
      "    update_time_ms: 3.256\n",
      "  timestamp: 1601512332\n",
      "  timesteps_since_restore: 0\n",
      "  timesteps_total: 78800\n",
      "  training_iteration: 10\n",
      "  trial_id: 6dd51_00000\n",
      "  \n"
     ]
    },
    {
     "data": {
      "text/html": [
       "== Status ==<br>Memory usage on this node: 12.0/15.8 GiB<br>Using FIFO scheduling algorithm.<br>Resources requested: 3/8 CPUs, 0/0 GPUs, 0.0/2.49 GiB heap, 0.0/0.83 GiB objects<br>Result logdir: /mnt/c/Users/Alex/Projects/kelly-criterion-rl/A3C<br>Number of trials: 1 (1 RUNNING)<br><table>\n",
       "<thead>\n",
       "<tr><th>Trial name              </th><th>status  </th><th>loc                 </th><th style=\"text-align: right;\">  iter</th><th style=\"text-align: right;\">  total time (s)</th><th style=\"text-align: right;\">   ts</th><th style=\"text-align: right;\">  reward</th></tr>\n",
       "</thead>\n",
       "<tbody>\n",
       "<tr><td>A3C_KellyEnv_6dd51_00000</td><td>RUNNING </td><td>192.168.86.161:16943</td><td style=\"text-align: right;\">    10</td><td style=\"text-align: right;\">         49.1924</td><td style=\"text-align: right;\">78800</td><td style=\"text-align: right;\"> 1226.75</td></tr>\n",
       "</tbody>\n",
       "</table><br><br>"
      ],
      "text/plain": [
       "<IPython.core.display.HTML object>"
      ]
     },
     "metadata": {},
     "output_type": "display_data"
    },
    {
     "name": "stdout",
     "output_type": "stream",
     "text": [
      "Result for A3C_KellyEnv_6dd51_00000:\n",
      "  custom_metrics: {}\n",
      "  date: 2020-09-30_20-32-22\n",
      "  done: false\n",
      "  episode_len_mean: 41.93\n",
      "  episode_reward_max: 1025.3959999999997\n",
      "  episode_reward_mean: -26.656080000000053\n",
      "  episode_reward_min: -247.79600000000326\n",
      "  episodes_this_iter: 89\n",
      "  episodes_total: 15184\n",
      "  experiment_id: 095ee8103e134f42be12b40d8e39f6a2\n",
      "  experiment_tag: '0'\n",
      "  hostname: LAPTOP-Alex\n",
      "  info:\n",
      "    learner:\n",
      "      grad_gnorm: 1068268.875\n",
      "      policy_entropy: 0.6334214210510254\n",
      "      policy_loss: 49529.703125\n",
      "      vf_loss: 9662826.0\n",
      "    num_steps_sampled: 90600\n",
      "    num_steps_trained: 90600\n",
      "  iterations_since_restore: 12\n",
      "  node_ip: 192.168.86.161\n",
      "  num_healthy_workers: 2\n",
      "  off_policy_estimator: {}\n",
      "  perf:\n",
      "    cpu_util_percent: 91.98571428571428\n",
      "    ram_util_percent: 75.94285714285715\n",
      "  pid: 16943\n",
      "  policy_reward_max: {}\n",
      "  policy_reward_mean: {}\n",
      "  policy_reward_min: {}\n",
      "  sampler_perf:\n",
      "    mean_env_wait_ms: 2.004961452294743\n",
      "    mean_inference_ms: 2.5219129820014667\n",
      "    mean_processing_ms: 5.69895196541531\n",
      "  time_since_restore: 59.03113269805908\n",
      "  time_this_iter_s: 4.932388544082642\n",
      "  time_total_s: 59.03113269805908\n",
      "  timers:\n",
      "    apply_grad_throughput: 23507.642\n",
      "    apply_grad_time_ms: 4.254\n",
      "    grad_wait_time_ms: 90.074\n",
      "    update_time_ms: 4.042\n",
      "  timestamp: 1601512342\n",
      "  timesteps_since_restore: 0\n",
      "  timesteps_total: 90600\n",
      "  training_iteration: 12\n",
      "  trial_id: 6dd51_00000\n",
      "  \n"
     ]
    },
    {
     "data": {
      "text/html": [
       "== Status ==<br>Memory usage on this node: 12.0/15.8 GiB<br>Using FIFO scheduling algorithm.<br>Resources requested: 3/8 CPUs, 0/0 GPUs, 0.0/2.49 GiB heap, 0.0/0.83 GiB objects<br>Result logdir: /mnt/c/Users/Alex/Projects/kelly-criterion-rl/A3C<br>Number of trials: 1 (1 RUNNING)<br><table>\n",
       "<thead>\n",
       "<tr><th>Trial name              </th><th>status  </th><th>loc                 </th><th style=\"text-align: right;\">  iter</th><th style=\"text-align: right;\">  total time (s)</th><th style=\"text-align: right;\">   ts</th><th style=\"text-align: right;\">  reward</th></tr>\n",
       "</thead>\n",
       "<tbody>\n",
       "<tr><td>A3C_KellyEnv_6dd51_00000</td><td>RUNNING </td><td>192.168.86.161:16943</td><td style=\"text-align: right;\">    12</td><td style=\"text-align: right;\">         59.0311</td><td style=\"text-align: right;\">90600</td><td style=\"text-align: right;\">-26.6561</td></tr>\n",
       "</tbody>\n",
       "</table><br><br>"
      ],
      "text/plain": [
       "<IPython.core.display.HTML object>"
      ]
     },
     "metadata": {},
     "output_type": "display_data"
    },
    {
     "name": "stdout",
     "output_type": "stream",
     "text": [
      "Result for A3C_KellyEnv_6dd51_00000:\n",
      "  custom_metrics: {}\n",
      "  date: 2020-09-30_20-32-32\n",
      "  done: false\n",
      "  episode_len_mean: 14.033576642335767\n",
      "  episode_reward_max: 270663.638\n",
      "  episode_reward_mean: 561.161602919708\n",
      "  episode_reward_min: -167.1039999999994\n",
      "  episodes_this_iter: 685\n",
      "  episodes_total: 16183\n",
      "  experiment_id: 095ee8103e134f42be12b40d8e39f6a2\n",
      "  experiment_tag: '0'\n",
      "  hostname: LAPTOP-Alex\n",
      "  info:\n",
      "    learner:\n",
      "      grad_gnorm: 322045.75\n",
      "      policy_entropy: 1.0748006105422974\n",
      "      policy_loss: 21356.46875\n",
      "      vf_loss: 1561800.75\n",
      "    num_steps_sampled: 110600\n",
      "    num_steps_trained: 110600\n",
      "  iterations_since_restore: 14\n",
      "  node_ip: 192.168.86.161\n",
      "  num_healthy_workers: 2\n",
      "  off_policy_estimator: {}\n",
      "  perf:\n",
      "    cpu_util_percent: 63.67142857142858\n",
      "    ram_util_percent: 75.67142857142858\n",
      "  pid: 16943\n",
      "  policy_reward_max: {}\n",
      "  policy_reward_mean: {}\n",
      "  policy_reward_min: {}\n",
      "  sampler_perf:\n",
      "    mean_env_wait_ms: 1.997463194806928\n",
      "    mean_inference_ms: 2.4918819372604997\n",
      "    mean_processing_ms: 5.461734819756443\n",
      "  time_since_restore: 68.92796635627747\n",
      "  time_this_iter_s: 4.979203701019287\n",
      "  time_total_s: 68.92796635627747\n",
      "  timers:\n",
      "    apply_grad_throughput: 34839.884\n",
      "    apply_grad_time_ms: 2.87\n",
      "    grad_wait_time_ms: 40.229\n",
      "    update_time_ms: 1.715\n",
      "  timestamp: 1601512352\n",
      "  timesteps_since_restore: 0\n",
      "  timesteps_total: 110600\n",
      "  training_iteration: 14\n",
      "  trial_id: 6dd51_00000\n",
      "  \n"
     ]
    },
    {
     "data": {
      "text/html": [
       "== Status ==<br>Memory usage on this node: 12.0/15.8 GiB<br>Using FIFO scheduling algorithm.<br>Resources requested: 3/8 CPUs, 0/0 GPUs, 0.0/2.49 GiB heap, 0.0/0.83 GiB objects<br>Result logdir: /mnt/c/Users/Alex/Projects/kelly-criterion-rl/A3C<br>Number of trials: 1 (1 RUNNING)<br><table>\n",
       "<thead>\n",
       "<tr><th>Trial name              </th><th>status  </th><th>loc                 </th><th style=\"text-align: right;\">  iter</th><th style=\"text-align: right;\">  total time (s)</th><th style=\"text-align: right;\">    ts</th><th style=\"text-align: right;\">  reward</th></tr>\n",
       "</thead>\n",
       "<tbody>\n",
       "<tr><td>A3C_KellyEnv_6dd51_00000</td><td>RUNNING </td><td>192.168.86.161:16943</td><td style=\"text-align: right;\">    14</td><td style=\"text-align: right;\">          68.928</td><td style=\"text-align: right;\">110600</td><td style=\"text-align: right;\"> 561.162</td></tr>\n",
       "</tbody>\n",
       "</table><br><br>"
      ],
      "text/plain": [
       "<IPython.core.display.HTML object>"
      ]
     },
     "metadata": {},
     "output_type": "display_data"
    },
    {
     "name": "stdout",
     "output_type": "stream",
     "text": [
      "Result for A3C_KellyEnv_6dd51_00000:\n",
      "  custom_metrics: {}\n",
      "  date: 2020-09-30_20-32-37\n",
      "  done: false\n",
      "  episode_len_mean: 10.066863323500492\n",
      "  episode_reward_max: 236152.93999999954\n",
      "  episode_reward_mean: 561.1008456243849\n",
      "  episode_reward_min: -92.83400000000003\n",
      "  episodes_this_iter: 1017\n",
      "  episodes_total: 17200\n",
      "  experiment_id: 095ee8103e134f42be12b40d8e39f6a2\n",
      "  experiment_tag: '0'\n",
      "  hostname: LAPTOP-Alex\n",
      "  info:\n",
      "    learner:\n",
      "      grad_gnorm: 208649.65625\n",
      "      policy_entropy: 1.4604406356811523\n",
      "      policy_loss: 52940.26171875\n",
      "      vf_loss: 623848.1875\n",
      "    num_steps_sampled: 120700\n",
      "    num_steps_trained: 120700\n",
      "  iterations_since_restore: 15\n",
      "  node_ip: 192.168.86.161\n",
      "  num_healthy_workers: 2\n",
      "  off_policy_estimator: {}\n",
      "  perf:\n",
      "    cpu_util_percent: 58.771428571428565\n",
      "    ram_util_percent: 75.5\n",
      "  pid: 16943\n",
      "  policy_reward_max: {}\n",
      "  policy_reward_mean: {}\n",
      "  policy_reward_min: {}\n",
      "  sampler_perf:\n",
      "    mean_env_wait_ms: 1.976635757128482\n",
      "    mean_inference_ms: 2.46856346300137\n",
      "    mean_processing_ms: 5.386096709806463\n",
      "  time_since_restore: 74.01096796989441\n",
      "  time_this_iter_s: 5.083001613616943\n",
      "  time_total_s: 74.01096796989441\n",
      "  timers:\n",
      "    apply_grad_throughput: 43962.225\n",
      "    apply_grad_time_ms: 2.275\n",
      "    grad_wait_time_ms: 47.618\n",
      "    update_time_ms: 2.993\n",
      "  timestamp: 1601512357\n",
      "  timesteps_since_restore: 0\n",
      "  timesteps_total: 120700\n",
      "  training_iteration: 15\n",
      "  trial_id: 6dd51_00000\n",
      "  \n"
     ]
    },
    {
     "data": {
      "text/html": [
       "== Status ==<br>Memory usage on this node: 11.9/15.8 GiB<br>Using FIFO scheduling algorithm.<br>Resources requested: 3/8 CPUs, 0/0 GPUs, 0.0/2.49 GiB heap, 0.0/0.83 GiB objects<br>Result logdir: /mnt/c/Users/Alex/Projects/kelly-criterion-rl/A3C<br>Number of trials: 1 (1 RUNNING)<br><table>\n",
       "<thead>\n",
       "<tr><th>Trial name              </th><th>status  </th><th>loc                 </th><th style=\"text-align: right;\">  iter</th><th style=\"text-align: right;\">  total time (s)</th><th style=\"text-align: right;\">    ts</th><th style=\"text-align: right;\">  reward</th></tr>\n",
       "</thead>\n",
       "<tbody>\n",
       "<tr><td>A3C_KellyEnv_6dd51_00000</td><td>RUNNING </td><td>192.168.86.161:16943</td><td style=\"text-align: right;\">    15</td><td style=\"text-align: right;\">          74.011</td><td style=\"text-align: right;\">120700</td><td style=\"text-align: right;\"> 561.101</td></tr>\n",
       "</tbody>\n",
       "</table><br><br>"
      ],
      "text/plain": [
       "<IPython.core.display.HTML object>"
      ]
     },
     "metadata": {},
     "output_type": "display_data"
    },
    {
     "name": "stdout",
     "output_type": "stream",
     "text": [
      "Result for A3C_KellyEnv_6dd51_00000:\n",
      "  custom_metrics: {}\n",
      "  date: 2020-09-30_20-32-43\n",
      "  done: false\n",
      "  episode_len_mean: 7.882539682539683\n",
      "  episode_reward_max: 303240.26\n",
      "  episode_reward_mean: 792.7699888888889\n",
      "  episode_reward_min: -52.07999999999999\n",
      "  episodes_this_iter: 1260\n",
      "  episodes_total: 18460\n",
      "  experiment_id: 095ee8103e134f42be12b40d8e39f6a2\n",
      "  experiment_tag: '0'\n",
      "  hostname: LAPTOP-Alex\n",
      "  info:\n",
      "    learner:\n",
      "      grad_gnorm: 49118.046875\n",
      "      policy_entropy: 1.5970486402511597\n",
      "      policy_loss: 24896.40234375\n",
      "      vf_loss: 460402.4375\n",
      "    num_steps_sampled: 130600\n",
      "    num_steps_trained: 130600\n",
      "  iterations_since_restore: 16\n",
      "  node_ip: 192.168.86.161\n",
      "  num_healthy_workers: 2\n",
      "  off_policy_estimator: {}\n",
      "  perf:\n",
      "    cpu_util_percent: 58.057142857142864\n",
      "    ram_util_percent: 75.45714285714284\n",
      "  pid: 16943\n",
      "  policy_reward_max: {}\n",
      "  policy_reward_mean: {}\n",
      "  policy_reward_min: {}\n",
      "  sampler_perf:\n",
      "    mean_env_wait_ms: 1.9597205861622924\n",
      "    mean_inference_ms: 2.445030747382878\n",
      "    mean_processing_ms: 5.332068316842444\n",
      "  time_since_restore: 78.97100901603699\n",
      "  time_this_iter_s: 4.960041046142578\n",
      "  time_total_s: 78.97100901603699\n",
      "  timers:\n",
      "    apply_grad_throughput: 49231.232\n",
      "    apply_grad_time_ms: 2.031\n",
      "    grad_wait_time_ms: 44.67\n",
      "    update_time_ms: 2.556\n",
      "  timestamp: 1601512363\n",
      "  timesteps_since_restore: 0\n",
      "  timesteps_total: 130600\n",
      "  training_iteration: 16\n",
      "  trial_id: 6dd51_00000\n",
      "  \n"
     ]
    },
    {
     "data": {
      "text/html": [
       "== Status ==<br>Memory usage on this node: 11.9/15.8 GiB<br>Using FIFO scheduling algorithm.<br>Resources requested: 3/8 CPUs, 0/0 GPUs, 0.0/2.49 GiB heap, 0.0/0.83 GiB objects<br>Result logdir: /mnt/c/Users/Alex/Projects/kelly-criterion-rl/A3C<br>Number of trials: 1 (1 RUNNING)<br><table>\n",
       "<thead>\n",
       "<tr><th>Trial name              </th><th>status  </th><th>loc                 </th><th style=\"text-align: right;\">  iter</th><th style=\"text-align: right;\">  total time (s)</th><th style=\"text-align: right;\">    ts</th><th style=\"text-align: right;\">  reward</th></tr>\n",
       "</thead>\n",
       "<tbody>\n",
       "<tr><td>A3C_KellyEnv_6dd51_00000</td><td>RUNNING </td><td>192.168.86.161:16943</td><td style=\"text-align: right;\">    16</td><td style=\"text-align: right;\">          78.971</td><td style=\"text-align: right;\">130600</td><td style=\"text-align: right;\">  792.77</td></tr>\n",
       "</tbody>\n",
       "</table><br><br>"
      ],
      "text/plain": [
       "<IPython.core.display.HTML object>"
      ]
     },
     "metadata": {},
     "output_type": "display_data"
    },
    {
     "name": "stdout",
     "output_type": "stream",
     "text": [
      "Result for A3C_KellyEnv_6dd51_00000:\n",
      "  custom_metrics: {}\n",
      "  date: 2020-09-30_20-32-48\n",
      "  done: false\n",
      "  episode_len_mean: 6.139411764705883\n",
      "  episode_reward_max: 358992.6940000001\n",
      "  episode_reward_mean: 919.5064858823531\n",
      "  episode_reward_min: -84.95400000000001\n",
      "  episodes_this_iter: 1700\n",
      "  episodes_total: 20160\n",
      "  experiment_id: 095ee8103e134f42be12b40d8e39f6a2\n",
      "  experiment_tag: '0'\n",
      "  hostname: LAPTOP-Alex\n",
      "  info:\n",
      "    learner:\n",
      "      grad_gnorm: 273183.125\n",
      "      policy_entropy: 1.1703561544418335\n",
      "      policy_loss: 9515.82421875\n",
      "      vf_loss: 1771254.375\n",
      "    num_steps_sampled: 141000\n",
      "    num_steps_trained: 141000\n",
      "  iterations_since_restore: 17\n",
      "  node_ip: 192.168.86.161\n",
      "  num_healthy_workers: 2\n",
      "  off_policy_estimator: {}\n",
      "  perf:\n",
      "    cpu_util_percent: 54.2625\n",
      "    ram_util_percent: 75.41250000000001\n",
      "  pid: 16943\n",
      "  policy_reward_max: {}\n",
      "  policy_reward_mean: {}\n",
      "  policy_reward_min: {}\n",
      "  sampler_perf:\n",
      "    mean_env_wait_ms: 1.9387304946940072\n",
      "    mean_inference_ms: 2.4159710729008466\n",
      "    mean_processing_ms: 5.274691679598269\n",
      "  time_since_restore: 83.95820832252502\n",
      "  time_this_iter_s: 4.987199306488037\n",
      "  time_total_s: 83.95820832252502\n",
      "  timers:\n",
      "    apply_grad_throughput: 43284.871\n",
      "    apply_grad_time_ms: 2.31\n",
      "    grad_wait_time_ms: 40.712\n",
      "    update_time_ms: 1.86\n",
      "  timestamp: 1601512368\n",
      "  timesteps_since_restore: 0\n",
      "  timesteps_total: 141000\n",
      "  training_iteration: 17\n",
      "  trial_id: 6dd51_00000\n",
      "  \n"
     ]
    },
    {
     "data": {
      "text/html": [
       "== Status ==<br>Memory usage on this node: 11.9/15.8 GiB<br>Using FIFO scheduling algorithm.<br>Resources requested: 3/8 CPUs, 0/0 GPUs, 0.0/2.49 GiB heap, 0.0/0.83 GiB objects<br>Result logdir: /mnt/c/Users/Alex/Projects/kelly-criterion-rl/A3C<br>Number of trials: 1 (1 RUNNING)<br><table>\n",
       "<thead>\n",
       "<tr><th>Trial name              </th><th>status  </th><th>loc                 </th><th style=\"text-align: right;\">  iter</th><th style=\"text-align: right;\">  total time (s)</th><th style=\"text-align: right;\">    ts</th><th style=\"text-align: right;\">  reward</th></tr>\n",
       "</thead>\n",
       "<tbody>\n",
       "<tr><td>A3C_KellyEnv_6dd51_00000</td><td>RUNNING </td><td>192.168.86.161:16943</td><td style=\"text-align: right;\">    17</td><td style=\"text-align: right;\">         83.9582</td><td style=\"text-align: right;\">141000</td><td style=\"text-align: right;\"> 919.506</td></tr>\n",
       "</tbody>\n",
       "</table><br><br>"
      ],
      "text/plain": [
       "<IPython.core.display.HTML object>"
      ]
     },
     "metadata": {},
     "output_type": "display_data"
    },
    {
     "name": "stdout",
     "output_type": "stream",
     "text": [
      "Result for A3C_KellyEnv_6dd51_00000:\n",
      "  custom_metrics: {}\n",
      "  date: 2020-09-30_20-32-58\n",
      "  done: false\n",
      "  episode_len_mean: 7.476306196840826\n",
      "  episode_reward_max: 928307.2159999999\n",
      "  episode_reward_mean: 2210.362529769137\n",
      "  episode_reward_min: -55.95199999999999\n",
      "  episodes_this_iter: 823\n",
      "  episodes_total: 22168\n",
      "  experiment_id: 095ee8103e134f42be12b40d8e39f6a2\n",
      "  experiment_tag: '0'\n",
      "  hostname: LAPTOP-Alex\n",
      "  info:\n",
      "    learner:\n",
      "      grad_gnorm: 3366418.25\n",
      "      policy_entropy: 1.0573779344558716\n",
      "      policy_loss: 194029.59375\n",
      "      vf_loss: 255660976.0\n",
      "    num_steps_sampled: 157400\n",
      "    num_steps_trained: 157400\n",
      "  iterations_since_restore: 19\n",
      "  node_ip: 192.168.86.161\n",
      "  num_healthy_workers: 2\n",
      "  off_policy_estimator: {}\n",
      "  perf:\n",
      "    cpu_util_percent: 76.7\n",
      "    ram_util_percent: 75.92857142857143\n",
      "  pid: 16943\n",
      "  policy_reward_max: {}\n",
      "  policy_reward_mean: {}\n",
      "  policy_reward_min: {}\n",
      "  sampler_perf:\n",
      "    mean_env_wait_ms: 1.959547251518952\n",
      "    mean_inference_ms: 2.4314266888727394\n",
      "    mean_processing_ms: 5.2971980345791385\n",
      "  time_since_restore: 93.92618155479431\n",
      "  time_this_iter_s: 5.054594278335571\n",
      "  time_total_s: 93.92618155479431\n",
      "  timers:\n",
      "    apply_grad_throughput: 36701.353\n",
      "    apply_grad_time_ms: 2.725\n",
      "    grad_wait_time_ms: 67.759\n",
      "    update_time_ms: 2.283\n",
      "  timestamp: 1601512378\n",
      "  timesteps_since_restore: 0\n",
      "  timesteps_total: 157400\n",
      "  training_iteration: 19\n",
      "  trial_id: 6dd51_00000\n",
      "  \n"
     ]
    },
    {
     "data": {
      "text/html": [
       "== Status ==<br>Memory usage on this node: 12.1/15.8 GiB<br>Using FIFO scheduling algorithm.<br>Resources requested: 3/8 CPUs, 0/0 GPUs, 0.0/2.49 GiB heap, 0.0/0.83 GiB objects<br>Result logdir: /mnt/c/Users/Alex/Projects/kelly-criterion-rl/A3C<br>Number of trials: 1 (1 RUNNING)<br><table>\n",
       "<thead>\n",
       "<tr><th>Trial name              </th><th>status  </th><th>loc                 </th><th style=\"text-align: right;\">  iter</th><th style=\"text-align: right;\">  total time (s)</th><th style=\"text-align: right;\">    ts</th><th style=\"text-align: right;\">  reward</th></tr>\n",
       "</thead>\n",
       "<tbody>\n",
       "<tr><td>A3C_KellyEnv_6dd51_00000</td><td>RUNNING </td><td>192.168.86.161:16943</td><td style=\"text-align: right;\">    19</td><td style=\"text-align: right;\">         93.9262</td><td style=\"text-align: right;\">157400</td><td style=\"text-align: right;\"> 2210.36</td></tr>\n",
       "</tbody>\n",
       "</table><br><br>"
      ],
      "text/plain": [
       "<IPython.core.display.HTML object>"
      ]
     },
     "metadata": {},
     "output_type": "display_data"
    },
    {
     "name": "stdout",
     "output_type": "stream",
     "text": [
      "Result for A3C_KellyEnv_6dd51_00000:\n",
      "  custom_metrics: {}\n",
      "  date: 2020-09-30_20-33-08\n",
      "  done: false\n",
      "  episode_len_mean: 4.093099224173132\n",
      "  episode_reward_max: 121382.29400000002\n",
      "  episode_reward_mean: 214.16029154757044\n",
      "  episode_reward_min: -56.98399999999999\n",
      "  episodes_this_iter: 2449\n",
      "  episodes_total: 26384\n",
      "  experiment_id: 095ee8103e134f42be12b40d8e39f6a2\n",
      "  experiment_tag: '0'\n",
      "  hostname: LAPTOP-Alex\n",
      "  info:\n",
      "    learner:\n",
      "      grad_gnorm: 1342358.25\n",
      "      policy_entropy: 0.6529904007911682\n",
      "      policy_loss: 123746.828125\n",
      "      vf_loss: 50689652.0\n",
      "    num_steps_sampled: 176000\n",
      "    num_steps_trained: 176000\n",
      "  iterations_since_restore: 21\n",
      "  node_ip: 192.168.86.161\n",
      "  num_healthy_workers: 2\n",
      "  off_policy_estimator: {}\n",
      "  perf:\n",
      "    cpu_util_percent: 54.1\n",
      "    ram_util_percent: 76.05714285714285\n",
      "  pid: 16943\n",
      "  policy_reward_max: {}\n",
      "  policy_reward_mean: {}\n",
      "  policy_reward_min: {}\n",
      "  sampler_perf:\n",
      "    mean_env_wait_ms: 1.9448654108220689\n",
      "    mean_inference_ms: 2.4040373920843394\n",
      "    mean_processing_ms: 5.30283541953628\n",
      "  time_since_restore: 104.09513020515442\n",
      "  time_this_iter_s: 5.281568288803101\n",
      "  time_total_s: 104.09513020515442\n",
      "  timers:\n",
      "    apply_grad_throughput: 40081.265\n",
      "    apply_grad_time_ms: 2.495\n",
      "    grad_wait_time_ms: 65.628\n",
      "    update_time_ms: 3.957\n",
      "  timestamp: 1601512388\n",
      "  timesteps_since_restore: 0\n",
      "  timesteps_total: 176000\n",
      "  training_iteration: 21\n",
      "  trial_id: 6dd51_00000\n",
      "  \n"
     ]
    },
    {
     "data": {
      "text/html": [
       "== Status ==<br>Memory usage on this node: 12.1/15.8 GiB<br>Using FIFO scheduling algorithm.<br>Resources requested: 3/8 CPUs, 0/0 GPUs, 0.0/2.49 GiB heap, 0.0/0.83 GiB objects<br>Result logdir: /mnt/c/Users/Alex/Projects/kelly-criterion-rl/A3C<br>Number of trials: 1 (1 RUNNING)<br><table>\n",
       "<thead>\n",
       "<tr><th>Trial name              </th><th>status  </th><th>loc                 </th><th style=\"text-align: right;\">  iter</th><th style=\"text-align: right;\">  total time (s)</th><th style=\"text-align: right;\">    ts</th><th style=\"text-align: right;\">  reward</th></tr>\n",
       "</thead>\n",
       "<tbody>\n",
       "<tr><td>A3C_KellyEnv_6dd51_00000</td><td>RUNNING </td><td>192.168.86.161:16943</td><td style=\"text-align: right;\">    21</td><td style=\"text-align: right;\">         104.095</td><td style=\"text-align: right;\">176000</td><td style=\"text-align: right;\">  214.16</td></tr>\n",
       "</tbody>\n",
       "</table><br><br>"
      ],
      "text/plain": [
       "<IPython.core.display.HTML object>"
      ]
     },
     "metadata": {},
     "output_type": "display_data"
    },
    {
     "name": "stdout",
     "output_type": "stream",
     "text": [
      "Result for A3C_KellyEnv_6dd51_00000:\n",
      "  custom_metrics: {}\n",
      "  date: 2020-09-30_20-33-18\n",
      "  done: false\n",
      "  episode_len_mean: 5.769186046511628\n",
      "  episode_reward_max: 1203099.904\n",
      "  episode_reward_mean: 1415.5510697674417\n",
      "  episode_reward_min: -87.99200000000029\n",
      "  episodes_this_iter: 1720\n",
      "  episodes_total: 29554\n",
      "  experiment_id: 095ee8103e134f42be12b40d8e39f6a2\n",
      "  experiment_tag: '0'\n",
      "  hostname: LAPTOP-Alex\n",
      "  info:\n",
      "    learner:\n",
      "      grad_gnorm: 9222.919921875\n",
      "      policy_entropy: 1.0314396619796753\n",
      "      policy_loss: -466.0724182128906\n",
      "      vf_loss: 2147.23291015625\n",
      "    num_steps_sampled: 191600\n",
      "    num_steps_trained: 191600\n",
      "  iterations_since_restore: 23\n",
      "  node_ip: 192.168.86.161\n",
      "  num_healthy_workers: 2\n",
      "  off_policy_estimator: {}\n",
      "  perf:\n",
      "    cpu_util_percent: 58.214285714285715\n",
      "    ram_util_percent: 75.58571428571429\n",
      "  pid: 16943\n",
      "  policy_reward_max: {}\n",
      "  policy_reward_mean: {}\n",
      "  policy_reward_min: {}\n",
      "  sampler_perf:\n",
      "    mean_env_wait_ms: 1.9530970926494613\n",
      "    mean_inference_ms: 2.4079521810738855\n",
      "    mean_processing_ms: 5.361383260292811\n",
      "  time_since_restore: 113.51299238204956\n",
      "  time_this_iter_s: 4.940120458602905\n",
      "  time_total_s: 113.51299238204956\n",
      "  timers:\n",
      "    apply_grad_throughput: 57360.357\n",
      "    apply_grad_time_ms: 1.743\n",
      "    grad_wait_time_ms: 44.137\n",
      "    update_time_ms: 1.365\n",
      "  timestamp: 1601512398\n",
      "  timesteps_since_restore: 0\n",
      "  timesteps_total: 191600\n",
      "  training_iteration: 23\n",
      "  trial_id: 6dd51_00000\n",
      "  \n"
     ]
    },
    {
     "data": {
      "text/html": [
       "== Status ==<br>Memory usage on this node: 11.9/15.8 GiB<br>Using FIFO scheduling algorithm.<br>Resources requested: 3/8 CPUs, 0/0 GPUs, 0.0/2.49 GiB heap, 0.0/0.83 GiB objects<br>Result logdir: /mnt/c/Users/Alex/Projects/kelly-criterion-rl/A3C<br>Number of trials: 1 (1 RUNNING)<br><table>\n",
       "<thead>\n",
       "<tr><th>Trial name              </th><th>status  </th><th>loc                 </th><th style=\"text-align: right;\">  iter</th><th style=\"text-align: right;\">  total time (s)</th><th style=\"text-align: right;\">    ts</th><th style=\"text-align: right;\">  reward</th></tr>\n",
       "</thead>\n",
       "<tbody>\n",
       "<tr><td>A3C_KellyEnv_6dd51_00000</td><td>RUNNING </td><td>192.168.86.161:16943</td><td style=\"text-align: right;\">    23</td><td style=\"text-align: right;\">         113.513</td><td style=\"text-align: right;\">191600</td><td style=\"text-align: right;\"> 1415.55</td></tr>\n",
       "</tbody>\n",
       "</table><br><br>"
      ],
      "text/plain": [
       "<IPython.core.display.HTML object>"
      ]
     },
     "metadata": {},
     "output_type": "display_data"
    },
    {
     "name": "stdout",
     "output_type": "stream",
     "text": [
      "Result for A3C_KellyEnv_6dd51_00000:\n",
      "  custom_metrics: {}\n",
      "  date: 2020-09-30_20-33-23\n",
      "  done: false\n",
      "  episode_len_mean: 9.277044854881266\n",
      "  episode_reward_max: 254512.28200000004\n",
      "  episode_reward_mean: 617.2098865435357\n",
      "  episode_reward_min: -78.99199999999998\n",
      "  episodes_this_iter: 758\n",
      "  episodes_total: 30312\n",
      "  experiment_id: 095ee8103e134f42be12b40d8e39f6a2\n",
      "  experiment_tag: '0'\n",
      "  hostname: LAPTOP-Alex\n",
      "  info:\n",
      "    learner:\n",
      "      grad_gnorm: 9748.775390625\n",
      "      policy_entropy: 1.0591552257537842\n",
      "      policy_loss: -513.2340698242188\n",
      "      vf_loss: 1413.8236083984375\n",
      "    num_steps_sampled: 198700\n",
      "    num_steps_trained: 198700\n",
      "  iterations_since_restore: 24\n",
      "  node_ip: 192.168.86.161\n",
      "  num_healthy_workers: 2\n",
      "  off_policy_estimator: {}\n",
      "  perf:\n",
      "    cpu_util_percent: 77.38571428571429\n",
      "    ram_util_percent: 75.44285714285715\n",
      "  pid: 16943\n",
      "  policy_reward_max: {}\n",
      "  policy_reward_mean: {}\n",
      "  policy_reward_min: {}\n",
      "  sampler_perf:\n",
      "    mean_env_wait_ms: 1.9746958933427796\n",
      "    mean_inference_ms: 2.4270920593571477\n",
      "    mean_processing_ms: 5.391000077242758\n",
      "  time_since_restore: 118.46953320503235\n",
      "  time_this_iter_s: 4.956540822982788\n",
      "  time_total_s: 118.46953320503235\n",
      "  timers:\n",
      "    apply_grad_throughput: 50621.609\n",
      "    apply_grad_time_ms: 1.975\n",
      "    grad_wait_time_ms: 44.688\n",
      "    update_time_ms: 1.288\n",
      "  timestamp: 1601512403\n",
      "  timesteps_since_restore: 0\n",
      "  timesteps_total: 198700\n",
      "  training_iteration: 24\n",
      "  trial_id: 6dd51_00000\n",
      "  \n"
     ]
    },
    {
     "data": {
      "text/html": [
       "== Status ==<br>Memory usage on this node: 11.9/15.8 GiB<br>Using FIFO scheduling algorithm.<br>Resources requested: 3/8 CPUs, 0/0 GPUs, 0.0/2.49 GiB heap, 0.0/0.83 GiB objects<br>Result logdir: /mnt/c/Users/Alex/Projects/kelly-criterion-rl/A3C<br>Number of trials: 1 (1 RUNNING)<br><table>\n",
       "<thead>\n",
       "<tr><th>Trial name              </th><th>status  </th><th>loc                 </th><th style=\"text-align: right;\">  iter</th><th style=\"text-align: right;\">  total time (s)</th><th style=\"text-align: right;\">    ts</th><th style=\"text-align: right;\">  reward</th></tr>\n",
       "</thead>\n",
       "<tbody>\n",
       "<tr><td>A3C_KellyEnv_6dd51_00000</td><td>RUNNING </td><td>192.168.86.161:16943</td><td style=\"text-align: right;\">    24</td><td style=\"text-align: right;\">          118.47</td><td style=\"text-align: right;\">198700</td><td style=\"text-align: right;\">  617.21</td></tr>\n",
       "</tbody>\n",
       "</table><br><br>"
      ],
      "text/plain": [
       "<IPython.core.display.HTML object>"
      ]
     },
     "metadata": {},
     "output_type": "display_data"
    },
    {
     "name": "stdout",
     "output_type": "stream",
     "text": [
      "Result for A3C_KellyEnv_6dd51_00000:\n",
      "  custom_metrics: {}\n",
      "  date: 2020-09-30_20-33-28\n",
      "  done: false\n",
      "  episode_len_mean: 10.69098277608916\n",
      "  episode_reward_max: 117623.432\n",
      "  episode_reward_mean: 526.3140324214793\n",
      "  episode_reward_min: -106.64800000000274\n",
      "  episodes_this_iter: 987\n",
      "  episodes_total: 31299\n",
      "  experiment_id: 095ee8103e134f42be12b40d8e39f6a2\n",
      "  experiment_tag: '0'\n",
      "  hostname: LAPTOP-Alex\n",
      "  info:\n",
      "    learner:\n",
      "      grad_gnorm: 191900.03125\n",
      "      policy_entropy: 1.240728735923767\n",
      "      policy_loss: -14364.7666015625\n",
      "      vf_loss: 176950.453125\n",
      "    num_steps_sampled: 209200\n",
      "    num_steps_trained: 209200\n",
      "  iterations_since_restore: 25\n",
      "  node_ip: 192.168.86.161\n",
      "  num_healthy_workers: 2\n",
      "  off_policy_estimator: {}\n",
      "  perf:\n",
      "    cpu_util_percent: 56.8125\n",
      "    ram_util_percent: 75.475\n",
      "  pid: 16943\n",
      "  policy_reward_max: {}\n",
      "  policy_reward_mean: {}\n",
      "  policy_reward_min: {}\n",
      "  sampler_perf:\n",
      "    mean_env_wait_ms: 1.9615083717957378\n",
      "    mean_inference_ms: 2.412207646930671\n",
      "    mean_processing_ms: 5.337454266177666\n",
      "  time_since_restore: 123.43275856971741\n",
      "  time_this_iter_s: 4.963225364685059\n",
      "  time_total_s: 123.43275856971741\n",
      "  timers:\n",
      "    apply_grad_throughput: 48886.941\n",
      "    apply_grad_time_ms: 2.046\n",
      "    grad_wait_time_ms: 39.345\n",
      "    update_time_ms: 1.43\n",
      "  timestamp: 1601512408\n",
      "  timesteps_since_restore: 0\n",
      "  timesteps_total: 209200\n",
      "  training_iteration: 25\n",
      "  trial_id: 6dd51_00000\n",
      "  \n"
     ]
    },
    {
     "data": {
      "text/html": [
       "== Status ==<br>Memory usage on this node: 11.9/15.8 GiB<br>Using FIFO scheduling algorithm.<br>Resources requested: 3/8 CPUs, 0/0 GPUs, 0.0/2.49 GiB heap, 0.0/0.83 GiB objects<br>Result logdir: /mnt/c/Users/Alex/Projects/kelly-criterion-rl/A3C<br>Number of trials: 1 (1 RUNNING)<br><table>\n",
       "<thead>\n",
       "<tr><th>Trial name              </th><th>status  </th><th>loc                 </th><th style=\"text-align: right;\">  iter</th><th style=\"text-align: right;\">  total time (s)</th><th style=\"text-align: right;\">    ts</th><th style=\"text-align: right;\">  reward</th></tr>\n",
       "</thead>\n",
       "<tbody>\n",
       "<tr><td>A3C_KellyEnv_6dd51_00000</td><td>RUNNING </td><td>192.168.86.161:16943</td><td style=\"text-align: right;\">    25</td><td style=\"text-align: right;\">         123.433</td><td style=\"text-align: right;\">209200</td><td style=\"text-align: right;\"> 526.314</td></tr>\n",
       "</tbody>\n",
       "</table><br><br>"
      ],
      "text/plain": [
       "<IPython.core.display.HTML object>"
      ]
     },
     "metadata": {},
     "output_type": "display_data"
    },
    {
     "name": "stdout",
     "output_type": "stream",
     "text": [
      "Result for A3C_KellyEnv_6dd51_00000:\n",
      "  custom_metrics: {}\n",
      "  date: 2020-09-30_20-33-33\n",
      "  done: false\n",
      "  episode_len_mean: 11.157041540020263\n",
      "  episode_reward_max: 6107164.957999999\n",
      "  episode_reward_mean: 9515.496840932115\n",
      "  episode_reward_min: -76.95200000000003\n",
      "  episodes_this_iter: 987\n",
      "  episodes_total: 32286\n",
      "  experiment_id: 095ee8103e134f42be12b40d8e39f6a2\n",
      "  experiment_tag: '0'\n",
      "  hostname: LAPTOP-Alex\n",
      "  info:\n",
      "    learner:\n",
      "      grad_gnorm: 304774.40625\n",
      "      policy_entropy: 0.6502845883369446\n",
      "      policy_loss: 16480.83984375\n",
      "      vf_loss: 306411.375\n",
      "    num_steps_sampled: 220200\n",
      "    num_steps_trained: 220200\n",
      "  iterations_since_restore: 26\n",
      "  node_ip: 192.168.86.161\n",
      "  num_healthy_workers: 2\n",
      "  off_policy_estimator: {}\n",
      "  perf:\n",
      "    cpu_util_percent: 53.4\n",
      "    ram_util_percent: 75.38571428571427\n",
      "  pid: 16943\n",
      "  policy_reward_max: {}\n",
      "  policy_reward_mean: {}\n",
      "  policy_reward_min: {}\n",
      "  sampler_perf:\n",
      "    mean_env_wait_ms: 1.9461441565033741\n",
      "    mean_inference_ms: 2.394372787752955\n",
      "    mean_processing_ms: 5.275462589279885\n",
      "  time_since_restore: 128.41012048721313\n",
      "  time_this_iter_s: 4.9773619174957275\n",
      "  time_total_s: 128.41012048721313\n",
      "  timers:\n",
      "    apply_grad_throughput: 55242.726\n",
      "    apply_grad_time_ms: 1.81\n",
      "    grad_wait_time_ms: 42.106\n",
      "    update_time_ms: 1.418\n",
      "  timestamp: 1601512413\n",
      "  timesteps_since_restore: 0\n",
      "  timesteps_total: 220200\n",
      "  training_iteration: 26\n",
      "  trial_id: 6dd51_00000\n",
      "  \n"
     ]
    },
    {
     "data": {
      "text/html": [
       "== Status ==<br>Memory usage on this node: 11.9/15.8 GiB<br>Using FIFO scheduling algorithm.<br>Resources requested: 3/8 CPUs, 0/0 GPUs, 0.0/2.49 GiB heap, 0.0/0.83 GiB objects<br>Result logdir: /mnt/c/Users/Alex/Projects/kelly-criterion-rl/A3C<br>Number of trials: 1 (1 RUNNING)<br><table>\n",
       "<thead>\n",
       "<tr><th>Trial name              </th><th>status  </th><th>loc                 </th><th style=\"text-align: right;\">  iter</th><th style=\"text-align: right;\">  total time (s)</th><th style=\"text-align: right;\">    ts</th><th style=\"text-align: right;\">  reward</th></tr>\n",
       "</thead>\n",
       "<tbody>\n",
       "<tr><td>A3C_KellyEnv_6dd51_00000</td><td>RUNNING </td><td>192.168.86.161:16943</td><td style=\"text-align: right;\">    26</td><td style=\"text-align: right;\">          128.41</td><td style=\"text-align: right;\">220200</td><td style=\"text-align: right;\">  9515.5</td></tr>\n",
       "</tbody>\n",
       "</table><br><br>"
      ],
      "text/plain": [
       "<IPython.core.display.HTML object>"
      ]
     },
     "metadata": {},
     "output_type": "display_data"
    },
    {
     "name": "stdout",
     "output_type": "stream",
     "text": [
      "Result for A3C_KellyEnv_6dd51_00000:\n",
      "  custom_metrics: {}\n",
      "  date: 2020-09-30_20-33-38\n",
      "  done: false\n",
      "  episode_len_mean: 11.236065573770492\n",
      "  episode_reward_max: 180688.872\n",
      "  episode_reward_mean: 1051.2692109289617\n",
      "  episode_reward_min: -81.06399999999995\n",
      "  episodes_this_iter: 915\n",
      "  episodes_total: 33201\n",
      "  experiment_id: 095ee8103e134f42be12b40d8e39f6a2\n",
      "  experiment_tag: '0'\n",
      "  hostname: LAPTOP-Alex\n",
      "  info:\n",
      "    learner:\n",
      "      grad_gnorm: 2747227.0\n",
      "      policy_entropy: 0.7406456470489502\n",
      "      policy_loss: 195856.65625\n",
      "      vf_loss: 132409968.0\n",
      "    num_steps_sampled: 230800\n",
      "    num_steps_trained: 230800\n",
      "  iterations_since_restore: 27\n",
      "  node_ip: 192.168.86.161\n",
      "  num_healthy_workers: 2\n",
      "  off_policy_estimator: {}\n",
      "  perf:\n",
      "    cpu_util_percent: 56.871428571428574\n",
      "    ram_util_percent: 75.39999999999999\n",
      "  pid: 16943\n",
      "  policy_reward_max: {}\n",
      "  policy_reward_mean: {}\n",
      "  policy_reward_min: {}\n",
      "  sampler_perf:\n",
      "    mean_env_wait_ms: 1.9362847159104486\n",
      "    mean_inference_ms: 2.379120262822329\n",
      "    mean_processing_ms: 5.227328946272891\n",
      "  time_since_restore: 133.408860206604\n",
      "  time_this_iter_s: 4.998739719390869\n",
      "  time_total_s: 133.408860206604\n",
      "  timers:\n",
      "    apply_grad_throughput: 41721.499\n",
      "    apply_grad_time_ms: 2.397\n",
      "    grad_wait_time_ms: 42.615\n",
      "    update_time_ms: 1.642\n",
      "  timestamp: 1601512418\n",
      "  timesteps_since_restore: 0\n",
      "  timesteps_total: 230800\n",
      "  training_iteration: 27\n",
      "  trial_id: 6dd51_00000\n",
      "  \n"
     ]
    },
    {
     "data": {
      "text/html": [
       "== Status ==<br>Memory usage on this node: 11.9/15.8 GiB<br>Using FIFO scheduling algorithm.<br>Resources requested: 3/8 CPUs, 0/0 GPUs, 0.0/2.49 GiB heap, 0.0/0.83 GiB objects<br>Result logdir: /mnt/c/Users/Alex/Projects/kelly-criterion-rl/A3C<br>Number of trials: 1 (1 RUNNING)<br><table>\n",
       "<thead>\n",
       "<tr><th>Trial name              </th><th>status  </th><th>loc                 </th><th style=\"text-align: right;\">  iter</th><th style=\"text-align: right;\">  total time (s)</th><th style=\"text-align: right;\">    ts</th><th style=\"text-align: right;\">  reward</th></tr>\n",
       "</thead>\n",
       "<tbody>\n",
       "<tr><td>A3C_KellyEnv_6dd51_00000</td><td>RUNNING </td><td>192.168.86.161:16943</td><td style=\"text-align: right;\">    27</td><td style=\"text-align: right;\">         133.409</td><td style=\"text-align: right;\">230800</td><td style=\"text-align: right;\"> 1051.27</td></tr>\n",
       "</tbody>\n",
       "</table><br><br>"
      ],
      "text/plain": [
       "<IPython.core.display.HTML object>"
      ]
     },
     "metadata": {},
     "output_type": "display_data"
    },
    {
     "name": "stdout",
     "output_type": "stream",
     "text": [
      "Result for A3C_KellyEnv_6dd51_00000:\n",
      "  custom_metrics: {}\n",
      "  date: 2020-09-30_20-33-48\n",
      "  done: false\n",
      "  episode_len_mean: 33.618296529968454\n",
      "  episode_reward_max: 44950.507999999994\n",
      "  episode_reward_mean: 259.98811987381686\n",
      "  episode_reward_min: -242.0300000000002\n",
      "  episodes_this_iter: 317\n",
      "  episodes_total: 34112\n",
      "  experiment_id: 095ee8103e134f42be12b40d8e39f6a2\n",
      "  experiment_tag: '0'\n",
      "  hostname: LAPTOP-Alex\n",
      "  info:\n",
      "    learner:\n",
      "      grad_gnorm: 517255.9375\n",
      "      policy_entropy: 0.36880844831466675\n",
      "      policy_loss: -16211.58984375\n",
      "      vf_loss: 6772296.5\n",
      "    num_steps_sampled: 252800\n",
      "    num_steps_trained: 252800\n",
      "  iterations_since_restore: 29\n",
      "  node_ip: 192.168.86.161\n",
      "  num_healthy_workers: 2\n",
      "  off_policy_estimator: {}\n",
      "  perf:\n",
      "    cpu_util_percent: 57.199999999999996\n",
      "    ram_util_percent: 75.39999999999999\n",
      "  pid: 16943\n",
      "  policy_reward_max: {}\n",
      "  policy_reward_mean: {}\n",
      "  policy_reward_min: {}\n",
      "  sampler_perf:\n",
      "    mean_env_wait_ms: 1.9155834530259204\n",
      "    mean_inference_ms: 2.3548309464774206\n",
      "    mean_processing_ms: 5.108126569358735\n",
      "  time_since_restore: 143.253986120224\n",
      "  time_this_iter_s: 4.977295637130737\n",
      "  time_total_s: 143.253986120224\n",
      "  timers:\n",
      "    apply_grad_throughput: 52251.146\n",
      "    apply_grad_time_ms: 1.914\n",
      "    grad_wait_time_ms: 39.102\n",
      "    update_time_ms: 1.265\n",
      "  timestamp: 1601512428\n",
      "  timesteps_since_restore: 0\n",
      "  timesteps_total: 252800\n",
      "  training_iteration: 29\n",
      "  trial_id: 6dd51_00000\n",
      "  \n"
     ]
    },
    {
     "data": {
      "text/html": [
       "== Status ==<br>Memory usage on this node: 11.9/15.8 GiB<br>Using FIFO scheduling algorithm.<br>Resources requested: 3/8 CPUs, 0/0 GPUs, 0.0/2.49 GiB heap, 0.0/0.83 GiB objects<br>Result logdir: /mnt/c/Users/Alex/Projects/kelly-criterion-rl/A3C<br>Number of trials: 1 (1 RUNNING)<br><table>\n",
       "<thead>\n",
       "<tr><th>Trial name              </th><th>status  </th><th>loc                 </th><th style=\"text-align: right;\">  iter</th><th style=\"text-align: right;\">  total time (s)</th><th style=\"text-align: right;\">    ts</th><th style=\"text-align: right;\">  reward</th></tr>\n",
       "</thead>\n",
       "<tbody>\n",
       "<tr><td>A3C_KellyEnv_6dd51_00000</td><td>RUNNING </td><td>192.168.86.161:16943</td><td style=\"text-align: right;\">    29</td><td style=\"text-align: right;\">         143.254</td><td style=\"text-align: right;\">252800</td><td style=\"text-align: right;\"> 259.988</td></tr>\n",
       "</tbody>\n",
       "</table><br><br>"
      ],
      "text/plain": [
       "<IPython.core.display.HTML object>"
      ]
     },
     "metadata": {},
     "output_type": "display_data"
    },
    {
     "name": "stdout",
     "output_type": "stream",
     "text": [
      "Result for A3C_KellyEnv_6dd51_00000:\n",
      "  custom_metrics: {}\n",
      "  date: 2020-09-30_20-33-53\n",
      "  done: false\n",
      "  episode_len_mean: 54.48245614035088\n",
      "  episode_reward_max: 1566.6380000000001\n",
      "  episode_reward_mean: -35.36571929826936\n",
      "  episode_reward_min: -388.308\n",
      "  episodes_this_iter: 114\n",
      "  episodes_total: 34226\n",
      "  experiment_id: 095ee8103e134f42be12b40d8e39f6a2\n",
      "  experiment_tag: '0'\n",
      "  hostname: LAPTOP-Alex\n",
      "  info:\n",
      "    learner:\n",
      "      grad_gnorm: 3100443904.0\n",
      "      policy_entropy: 0.07015227526426315\n",
      "      policy_loss: 13700620.0\n",
      "      vf_loss: 16821848637440.0\n",
      "    num_steps_sampled: 264100\n",
      "    num_steps_trained: 264100\n",
      "  iterations_since_restore: 30\n",
      "  node_ip: 192.168.86.161\n",
      "  num_healthy_workers: 2\n",
      "  off_policy_estimator: {}\n",
      "  perf:\n",
      "    cpu_util_percent: 56.8\n",
      "    ram_util_percent: 75.39999999999999\n",
      "  pid: 16943\n",
      "  policy_reward_max: {}\n",
      "  policy_reward_mean: {}\n",
      "  policy_reward_min: {}\n",
      "  sampler_perf:\n",
      "    mean_env_wait_ms: 1.9148109027784899\n",
      "    mean_inference_ms: 2.3407145089064603\n",
      "    mean_processing_ms: 5.054249791679487\n",
      "  time_since_restore: 148.2370162010193\n",
      "  time_this_iter_s: 4.983030080795288\n",
      "  time_total_s: 148.2370162010193\n",
      "  timers:\n",
      "    apply_grad_throughput: 52970.423\n",
      "    apply_grad_time_ms: 1.888\n",
      "    grad_wait_time_ms: 38.362\n",
      "    update_time_ms: 1.521\n",
      "  timestamp: 1601512433\n",
      "  timesteps_since_restore: 0\n",
      "  timesteps_total: 264100\n",
      "  training_iteration: 30\n",
      "  trial_id: 6dd51_00000\n",
      "  \n",
      "Result for A3C_KellyEnv_6dd51_00000:\n",
      "  custom_metrics: {}\n",
      "  date: 2020-09-30_20-33-58\n",
      "  done: false\n",
      "  episode_len_mean: 141.05309734513276\n",
      "  episode_reward_max: 73879.59400004338\n",
      "  episode_reward_mean: 919.305451318518\n",
      "  episode_reward_min: -972.8179999660764\n",
      "  episodes_this_iter: 113\n",
      "  episodes_total: 34339\n",
      "  experiment_id: 095ee8103e134f42be12b40d8e39f6a2\n",
      "  experiment_tag: '0'\n",
      "  hostname: LAPTOP-Alex\n",
      "  info:\n",
      "    learner:\n",
      "      grad_gnorm: 62140.2421875\n",
      "      policy_entropy: -0.00740369688719511\n",
      "      policy_loss: -1114.22802734375\n",
      "      vf_loss: 6135.21728515625\n",
      "    num_steps_sampled: 275600\n",
      "    num_steps_trained: 275600\n",
      "  iterations_since_restore: 31\n",
      "  node_ip: 192.168.86.161\n",
      "  num_healthy_workers: 2\n",
      "  off_policy_estimator: {}\n",
      "  perf:\n",
      "    cpu_util_percent: 56.41428571428571\n",
      "    ram_util_percent: 75.45714285714287\n",
      "  pid: 16943\n",
      "  policy_reward_max: {}\n",
      "  policy_reward_mean: {}\n",
      "  policy_reward_min: {}\n",
      "  sampler_perf:\n",
      "    mean_env_wait_ms: 1.898745919026764\n",
      "    mean_inference_ms: 2.333859901293579\n",
      "    mean_processing_ms: 4.989503392654904\n",
      "  time_since_restore: 153.24538826942444\n",
      "  time_this_iter_s: 5.008372068405151\n",
      "  time_total_s: 153.24538826942444\n",
      "  timers:\n",
      "    apply_grad_throughput: 58274.456\n",
      "    apply_grad_time_ms: 1.716\n",
      "    grad_wait_time_ms: 41.983\n",
      "    update_time_ms: 1.499\n",
      "  timestamp: 1601512438\n",
      "  timesteps_since_restore: 0\n",
      "  timesteps_total: 275600\n",
      "  training_iteration: 31\n",
      "  trial_id: 6dd51_00000\n",
      "  \n"
     ]
    },
    {
     "data": {
      "text/html": [
       "== Status ==<br>Memory usage on this node: 11.9/15.8 GiB<br>Using FIFO scheduling algorithm.<br>Resources requested: 3/8 CPUs, 0/0 GPUs, 0.0/2.49 GiB heap, 0.0/0.83 GiB objects<br>Result logdir: /mnt/c/Users/Alex/Projects/kelly-criterion-rl/A3C<br>Number of trials: 1 (1 RUNNING)<br><table>\n",
       "<thead>\n",
       "<tr><th>Trial name              </th><th>status  </th><th>loc                 </th><th style=\"text-align: right;\">  iter</th><th style=\"text-align: right;\">  total time (s)</th><th style=\"text-align: right;\">    ts</th><th style=\"text-align: right;\">  reward</th></tr>\n",
       "</thead>\n",
       "<tbody>\n",
       "<tr><td>A3C_KellyEnv_6dd51_00000</td><td>RUNNING </td><td>192.168.86.161:16943</td><td style=\"text-align: right;\">    31</td><td style=\"text-align: right;\">         153.245</td><td style=\"text-align: right;\">275600</td><td style=\"text-align: right;\"> 919.305</td></tr>\n",
       "</tbody>\n",
       "</table><br><br>"
      ],
      "text/plain": [
       "<IPython.core.display.HTML object>"
      ]
     },
     "metadata": {},
     "output_type": "display_data"
    },
    {
     "name": "stdout",
     "output_type": "stream",
     "text": [
      "Result for A3C_KellyEnv_6dd51_00000:\n",
      "  custom_metrics: {}\n",
      "  date: 2020-09-30_20-34-08\n",
      "  done: false\n",
      "  episode_len_mean: 150.78\n",
      "  episode_reward_max: 44793.049999902745\n",
      "  episode_reward_mean: 288.1090799893161\n",
      "  episode_reward_min: -972.8179999660764\n",
      "  episodes_this_iter: 9\n",
      "  episodes_total: 34371\n",
      "  experiment_id: 095ee8103e134f42be12b40d8e39f6a2\n",
      "  experiment_tag: '0'\n",
      "  hostname: LAPTOP-Alex\n",
      "  info:\n",
      "    learner:\n",
      "      grad_gnorm: 858905345261568.0\n",
      "      policy_entropy: -0.8682441711425781\n",
      "      policy_loss: 6474168795136.0\n",
      "      vf_loss: 6.322536503302984e+23\n",
      "    num_steps_sampled: 298300\n",
      "    num_steps_trained: 298300\n",
      "  iterations_since_restore: 33\n",
      "  node_ip: 192.168.86.161\n",
      "  num_healthy_workers: 2\n",
      "  off_policy_estimator: {}\n",
      "  perf:\n",
      "    cpu_util_percent: 56.72857142857142\n",
      "    ram_util_percent: 75.39999999999999\n",
      "  pid: 16943\n",
      "  policy_reward_max: {}\n",
      "  policy_reward_mean: {}\n",
      "  policy_reward_min: {}\n",
      "  sampler_perf:\n",
      "    mean_env_wait_ms: 1.8855685685337318\n",
      "    mean_inference_ms: 2.3341746708846545\n",
      "    mean_processing_ms: 4.958169839047393\n",
      "  time_since_restore: 163.19495558738708\n",
      "  time_this_iter_s: 4.986347913742065\n",
      "  time_total_s: 163.19495558738708\n",
      "  timers:\n",
      "    apply_grad_throughput: 53536.333\n",
      "    apply_grad_time_ms: 1.868\n",
      "    grad_wait_time_ms: 37.971\n",
      "    update_time_ms: 1.532\n",
      "  timestamp: 1601512448\n",
      "  timesteps_since_restore: 0\n",
      "  timesteps_total: 298300\n",
      "  training_iteration: 33\n",
      "  trial_id: 6dd51_00000\n",
      "  \n"
     ]
    },
    {
     "data": {
      "text/html": [
       "== Status ==<br>Memory usage on this node: 11.9/15.8 GiB<br>Using FIFO scheduling algorithm.<br>Resources requested: 3/8 CPUs, 0/0 GPUs, 0.0/2.49 GiB heap, 0.0/0.83 GiB objects<br>Result logdir: /mnt/c/Users/Alex/Projects/kelly-criterion-rl/A3C<br>Number of trials: 1 (1 RUNNING)<br><table>\n",
       "<thead>\n",
       "<tr><th>Trial name              </th><th>status  </th><th>loc                 </th><th style=\"text-align: right;\">  iter</th><th style=\"text-align: right;\">  total time (s)</th><th style=\"text-align: right;\">    ts</th><th style=\"text-align: right;\">  reward</th></tr>\n",
       "</thead>\n",
       "<tbody>\n",
       "<tr><td>A3C_KellyEnv_6dd51_00000</td><td>RUNNING </td><td>192.168.86.161:16943</td><td style=\"text-align: right;\">    33</td><td style=\"text-align: right;\">         163.195</td><td style=\"text-align: right;\">298300</td><td style=\"text-align: right;\"> 288.109</td></tr>\n",
       "</tbody>\n",
       "</table><br><br>"
      ],
      "text/plain": [
       "<IPython.core.display.HTML object>"
      ]
     },
     "metadata": {},
     "output_type": "display_data"
    },
    {
     "name": "stdout",
     "output_type": "stream",
     "text": [
      "Result for A3C_KellyEnv_6dd51_00000:\n",
      "  custom_metrics: {}\n",
      "  date: 2020-09-30_20-34-18\n",
      "  done: false\n",
      "  episode_len_mean: 150.78\n",
      "  episode_reward_max: 44793.049999902745\n",
      "  episode_reward_mean: 288.1090799893161\n",
      "  episode_reward_min: -972.8179999660764\n",
      "  episodes_this_iter: 0\n",
      "  episodes_total: 34371\n",
      "  experiment_id: 095ee8103e134f42be12b40d8e39f6a2\n",
      "  experiment_tag: '0'\n",
      "  hostname: LAPTOP-Alex\n",
      "  info:\n",
      "    learner:\n",
      "      grad_gnorm: 1.3831629778026758e+19\n",
      "      policy_entropy: -1.1770857572555542\n",
      "      policy_loss: 4.3874321007273574e+17\n",
      "      vf_loss: 1.794946904542952e+32\n",
      "    num_steps_sampled: 319900\n",
      "    num_steps_trained: 319900\n",
      "  iterations_since_restore: 35\n",
      "  node_ip: 192.168.86.161\n",
      "  num_healthy_workers: 2\n",
      "  off_policy_estimator: {}\n",
      "  perf:\n",
      "    cpu_util_percent: 65.14285714285714\n",
      "    ram_util_percent: 75.55714285714285\n",
      "  pid: 16943\n",
      "  policy_reward_max: {}\n",
      "  policy_reward_mean: {}\n",
      "  policy_reward_min: {}\n",
      "  sampler_perf:\n",
      "    mean_env_wait_ms: 1.885568568533732\n",
      "    mean_inference_ms: 2.3341746708846545\n",
      "    mean_processing_ms: 4.958169839047393\n",
      "  time_since_restore: 173.14827585220337\n",
      "  time_this_iter_s: 4.985041379928589\n",
      "  time_total_s: 173.14827585220337\n",
      "  timers:\n",
      "    apply_grad_throughput: 54082.368\n",
      "    apply_grad_time_ms: 1.849\n",
      "    grad_wait_time_ms: 32.376\n",
      "    update_time_ms: 1.249\n",
      "  timestamp: 1601512458\n",
      "  timesteps_since_restore: 0\n",
      "  timesteps_total: 319900\n",
      "  training_iteration: 35\n",
      "  trial_id: 6dd51_00000\n",
      "  \n"
     ]
    },
    {
     "data": {
      "text/html": [
       "== Status ==<br>Memory usage on this node: 12.0/15.8 GiB<br>Using FIFO scheduling algorithm.<br>Resources requested: 3/8 CPUs, 0/0 GPUs, 0.0/2.49 GiB heap, 0.0/0.83 GiB objects<br>Result logdir: /mnt/c/Users/Alex/Projects/kelly-criterion-rl/A3C<br>Number of trials: 1 (1 RUNNING)<br><table>\n",
       "<thead>\n",
       "<tr><th>Trial name              </th><th>status  </th><th>loc                 </th><th style=\"text-align: right;\">  iter</th><th style=\"text-align: right;\">  total time (s)</th><th style=\"text-align: right;\">    ts</th><th style=\"text-align: right;\">  reward</th></tr>\n",
       "</thead>\n",
       "<tbody>\n",
       "<tr><td>A3C_KellyEnv_6dd51_00000</td><td>RUNNING </td><td>192.168.86.161:16943</td><td style=\"text-align: right;\">    35</td><td style=\"text-align: right;\">         173.148</td><td style=\"text-align: right;\">319900</td><td style=\"text-align: right;\"> 288.109</td></tr>\n",
       "</tbody>\n",
       "</table><br><br>"
      ],
      "text/plain": [
       "<IPython.core.display.HTML object>"
      ]
     },
     "metadata": {},
     "output_type": "display_data"
    },
    {
     "name": "stderr",
     "output_type": "stream",
     "text": [
      "WARNING:root:NaN or Inf found in input tensor.\n",
      "WARNING:root:NaN or Inf found in input tensor.\n",
      "2020-09-30 20:34:23,984\tWARNING logger.py:232 -- You are trying to log an invalid value (ray/tune/info/learner/grad_gnorm=inf) via TBXLogger!\n"
     ]
    },
    {
     "name": "stdout",
     "output_type": "stream",
     "text": [
      "Result for A3C_KellyEnv_6dd51_00000:\n",
      "  custom_metrics: {}\n",
      "  date: 2020-09-30_20-34-23\n",
      "  done: false\n",
      "  episode_len_mean: 150.78\n",
      "  episode_reward_max: 44793.049999902745\n",
      "  episode_reward_mean: 288.1090799893161\n",
      "  episode_reward_min: -972.8179999660764\n",
      "  episodes_this_iter: 0\n",
      "  episodes_total: 34371\n",
      "  experiment_id: 095ee8103e134f42be12b40d8e39f6a2\n",
      "  experiment_tag: '0'\n",
      "  hostname: LAPTOP-Alex\n",
      "  info:\n",
      "    learner:\n",
      "      grad_gnorm: .inf\n",
      "      policy_entropy: -1.1813863515853882\n",
      "      policy_loss: 3.502212991225598e+21\n",
      "      vf_loss: .inf\n",
      "    num_steps_sampled: 327500\n",
      "    num_steps_trained: 327500\n",
      "  iterations_since_restore: 36\n",
      "  node_ip: 192.168.86.161\n",
      "  num_healthy_workers: 2\n",
      "  off_policy_estimator: {}\n",
      "  perf:\n",
      "    cpu_util_percent: 78.0875\n",
      "    ram_util_percent: 75.975\n",
      "  pid: 16943\n",
      "  policy_reward_max: {}\n",
      "  policy_reward_mean: {}\n",
      "  policy_reward_min: {}\n",
      "  sampler_perf:\n",
      "    mean_env_wait_ms: 1.885568568533732\n",
      "    mean_inference_ms: 2.3341746708846545\n",
      "    mean_processing_ms: 4.958169839047393\n",
      "  time_since_restore: 178.59080123901367\n",
      "  time_this_iter_s: 5.442525386810303\n",
      "  time_total_s: 178.59080123901367\n",
      "  timers:\n",
      "    apply_grad_throughput: 31744.969\n",
      "    apply_grad_time_ms: 3.15\n",
      "    grad_wait_time_ms: 63.465\n",
      "    update_time_ms: 2.546\n",
      "  timestamp: 1601512463\n",
      "  timesteps_since_restore: 0\n",
      "  timesteps_total: 327500\n",
      "  training_iteration: 36\n",
      "  trial_id: 6dd51_00000\n",
      "  \n"
     ]
    },
    {
     "data": {
      "text/html": [
       "== Status ==<br>Memory usage on this node: 12.1/15.8 GiB<br>Using FIFO scheduling algorithm.<br>Resources requested: 3/8 CPUs, 0/0 GPUs, 0.0/2.49 GiB heap, 0.0/0.83 GiB objects<br>Result logdir: /mnt/c/Users/Alex/Projects/kelly-criterion-rl/A3C<br>Number of trials: 1 (1 RUNNING)<br><table>\n",
       "<thead>\n",
       "<tr><th>Trial name              </th><th>status  </th><th>loc                 </th><th style=\"text-align: right;\">  iter</th><th style=\"text-align: right;\">  total time (s)</th><th style=\"text-align: right;\">    ts</th><th style=\"text-align: right;\">  reward</th></tr>\n",
       "</thead>\n",
       "<tbody>\n",
       "<tr><td>A3C_KellyEnv_6dd51_00000</td><td>RUNNING </td><td>192.168.86.161:16943</td><td style=\"text-align: right;\">    36</td><td style=\"text-align: right;\">         178.591</td><td style=\"text-align: right;\">327500</td><td style=\"text-align: right;\"> 288.109</td></tr>\n",
       "</tbody>\n",
       "</table><br><br>"
      ],
      "text/plain": [
       "<IPython.core.display.HTML object>"
      ]
     },
     "metadata": {},
     "output_type": "display_data"
    },
    {
     "name": "stderr",
     "output_type": "stream",
     "text": [
      "WARNING:root:NaN or Inf found in input tensor.\n",
      "WARNING:root:NaN or Inf found in input tensor.\n",
      "WARNING:root:NaN or Inf found in input tensor.\n",
      "WARNING:root:NaN or Inf found in input tensor.\n"
     ]
    },
    {
     "name": "stdout",
     "output_type": "stream",
     "text": [
      "Result for A3C_KellyEnv_6dd51_00000:\n",
      "  custom_metrics: {}\n",
      "  date: 2020-09-30_20-34-33\n",
      "  done: false\n",
      "  episode_len_mean: 150.78\n",
      "  episode_reward_max: 44793.049999902745\n",
      "  episode_reward_mean: 288.1090799893161\n",
      "  episode_reward_min: -972.8179999660764\n",
      "  episodes_this_iter: 0\n",
      "  episodes_total: 34371\n",
      "  experiment_id: 095ee8103e134f42be12b40d8e39f6a2\n",
      "  experiment_tag: '0'\n",
      "  hostname: LAPTOP-Alex\n",
      "  info:\n",
      "    learner:\n",
      "      grad_gnorm: .inf\n",
      "      policy_entropy: -1.1813037395477295\n",
      "      policy_loss: -1.1378956278084432e+36\n",
      "      vf_loss: .inf\n",
      "    num_steps_sampled: 346100\n",
      "    num_steps_trained: 346100\n",
      "  iterations_since_restore: 38\n",
      "  node_ip: 192.168.86.161\n",
      "  num_healthy_workers: 2\n",
      "  off_policy_estimator: {}\n",
      "  perf:\n",
      "    cpu_util_percent: 58.175\n",
      "    ram_util_percent: 76.375\n",
      "  pid: 16943\n",
      "  policy_reward_max: {}\n",
      "  policy_reward_mean: {}\n",
      "  policy_reward_min: {}\n",
      "  sampler_perf:\n",
      "    mean_env_wait_ms: 1.885568568533732\n",
      "    mean_inference_ms: 2.3341746708846545\n",
      "    mean_processing_ms: 4.958169839047393\n",
      "  time_since_restore: 188.19533276557922\n",
      "  time_this_iter_s: 4.954488039016724\n",
      "  time_total_s: 188.19533276557922\n",
      "  timers:\n",
      "    apply_grad_throughput: 48134.04\n",
      "    apply_grad_time_ms: 2.078\n",
      "    grad_wait_time_ms: 40.667\n",
      "    update_time_ms: 1.392\n",
      "  timestamp: 1601512473\n",
      "  timesteps_since_restore: 0\n",
      "  timesteps_total: 346100\n",
      "  training_iteration: 38\n",
      "  trial_id: 6dd51_00000\n",
      "  \n"
     ]
    },
    {
     "data": {
      "text/html": [
       "== Status ==<br>Memory usage on this node: 12.1/15.8 GiB<br>Using FIFO scheduling algorithm.<br>Resources requested: 3/8 CPUs, 0/0 GPUs, 0.0/2.49 GiB heap, 0.0/0.83 GiB objects<br>Result logdir: /mnt/c/Users/Alex/Projects/kelly-criterion-rl/A3C<br>Number of trials: 1 (1 RUNNING)<br><table>\n",
       "<thead>\n",
       "<tr><th>Trial name              </th><th>status  </th><th>loc                 </th><th style=\"text-align: right;\">  iter</th><th style=\"text-align: right;\">  total time (s)</th><th style=\"text-align: right;\">    ts</th><th style=\"text-align: right;\">  reward</th></tr>\n",
       "</thead>\n",
       "<tbody>\n",
       "<tr><td>A3C_KellyEnv_6dd51_00000</td><td>RUNNING </td><td>192.168.86.161:16943</td><td style=\"text-align: right;\">    38</td><td style=\"text-align: right;\">         188.195</td><td style=\"text-align: right;\">346100</td><td style=\"text-align: right;\"> 288.109</td></tr>\n",
       "</tbody>\n",
       "</table><br><br>"
      ],
      "text/plain": [
       "<IPython.core.display.HTML object>"
      ]
     },
     "metadata": {},
     "output_type": "display_data"
    },
    {
     "name": "stderr",
     "output_type": "stream",
     "text": [
      "2020-09-30 20:34:34,011\tERROR trial_runner.py:523 -- Trial A3C_KellyEnv_6dd51_00000: Error processing event.\n",
      "Traceback (most recent call last):\n",
      "  File \"/home/azharichenko/.local/share/virtualenvs/kelly-criterion-rl-xIioxHR7/lib/python3.8/site-packages/ray/tune/trial_runner.py\", line 471, in _process_trial\n",
      "    result = self.trial_executor.fetch_result(trial)\n",
      "  File \"/home/azharichenko/.local/share/virtualenvs/kelly-criterion-rl-xIioxHR7/lib/python3.8/site-packages/ray/tune/ray_trial_executor.py\", line 430, in fetch_result\n",
      "    result = ray.get(trial_future[0], DEFAULT_GET_TIMEOUT)\n",
      "  File \"/home/azharichenko/.local/share/virtualenvs/kelly-criterion-rl-xIioxHR7/lib/python3.8/site-packages/ray/worker.py\", line 1538, in get\n",
      "    raise value.as_instanceof_cause()\n",
      "ray.exceptions.RayTaskError(RuntimeError): \u001b[36mray::A3C.train()\u001b[39m (pid=16943, ip=192.168.86.161)\n",
      "  File \"python/ray/_raylet.pyx\", line 479, in ray._raylet.execute_task\n",
      "  File \"python/ray/_raylet.pyx\", line 432, in ray._raylet.execute_task.function_executor\n",
      "  File \"/home/azharichenko/.local/share/virtualenvs/kelly-criterion-rl-xIioxHR7/lib/python3.8/site-packages/ray/rllib/agents/trainer.py\", line 519, in train\n",
      "    raise e\n",
      "  File \"/home/azharichenko/.local/share/virtualenvs/kelly-criterion-rl-xIioxHR7/lib/python3.8/site-packages/ray/rllib/agents/trainer.py\", line 508, in train\n",
      "    result = Trainable.train(self)\n",
      "  File \"/home/azharichenko/.local/share/virtualenvs/kelly-criterion-rl-xIioxHR7/lib/python3.8/site-packages/ray/tune/trainable.py\", line 332, in train\n",
      "    result = self.step()\n",
      "  File \"/home/azharichenko/.local/share/virtualenvs/kelly-criterion-rl-xIioxHR7/lib/python3.8/site-packages/ray/rllib/agents/trainer_template.py\", line 110, in step\n",
      "    res = next(self.train_exec_impl)\n",
      "  File \"/home/azharichenko/.local/share/virtualenvs/kelly-criterion-rl-xIioxHR7/lib/python3.8/site-packages/ray/util/iter.py\", line 758, in __next__\n",
      "    return next(self.built_iterator)\n",
      "  File \"/home/azharichenko/.local/share/virtualenvs/kelly-criterion-rl-xIioxHR7/lib/python3.8/site-packages/ray/util/iter.py\", line 785, in apply_foreach\n",
      "    for item in it:\n",
      "  File \"/home/azharichenko/.local/share/virtualenvs/kelly-criterion-rl-xIioxHR7/lib/python3.8/site-packages/ray/util/iter.py\", line 845, in apply_filter\n",
      "    for item in it:\n",
      "  File \"/home/azharichenko/.local/share/virtualenvs/kelly-criterion-rl-xIioxHR7/lib/python3.8/site-packages/ray/util/iter.py\", line 845, in apply_filter\n",
      "    for item in it:\n",
      "  File \"/home/azharichenko/.local/share/virtualenvs/kelly-criterion-rl-xIioxHR7/lib/python3.8/site-packages/ray/util/iter.py\", line 785, in apply_foreach\n",
      "    for item in it:\n",
      "  File \"/home/azharichenko/.local/share/virtualenvs/kelly-criterion-rl-xIioxHR7/lib/python3.8/site-packages/ray/util/iter.py\", line 830, in add_wait_hooks\n",
      "    item = next(it)\n",
      "  File \"/home/azharichenko/.local/share/virtualenvs/kelly-criterion-rl-xIioxHR7/lib/python3.8/site-packages/ray/util/iter.py\", line 785, in apply_foreach\n",
      "    for item in it:\n",
      "  File \"/home/azharichenko/.local/share/virtualenvs/kelly-criterion-rl-xIioxHR7/lib/python3.8/site-packages/ray/util/iter.py\", line 552, in base_iterator\n",
      "    batch = ray.get(obj_ref)\n",
      "ray.exceptions.RayTaskError(RuntimeError): \u001b[36mray::RolloutWorker.par_iter_next_batch()\u001b[39m (pid=17118, ip=192.168.86.161)\n",
      "  File \"python/ray/_raylet.pyx\", line 479, in ray._raylet.execute_task\n",
      "  File \"python/ray/_raylet.pyx\", line 432, in ray._raylet.execute_task.function_executor\n",
      "  File \"/home/azharichenko/.local/share/virtualenvs/kelly-criterion-rl-xIioxHR7/lib/python3.8/site-packages/ray/util/iter.py\", line 1162, in par_iter_next_batch\n",
      "    batch.append(self.par_iter_next())\n",
      "  File \"/home/azharichenko/.local/share/virtualenvs/kelly-criterion-rl-xIioxHR7/lib/python3.8/site-packages/ray/util/iter.py\", line 1156, in par_iter_next\n",
      "    return next(self.local_it)\n",
      "  File \"/home/azharichenko/.local/share/virtualenvs/kelly-criterion-rl-xIioxHR7/lib/python3.8/site-packages/ray/util/iter.py\", line 785, in apply_foreach\n",
      "    for item in it:\n",
      "  File \"/home/azharichenko/.local/share/virtualenvs/kelly-criterion-rl-xIioxHR7/lib/python3.8/site-packages/ray/rllib/evaluation/rollout_worker.py\", line 281, in gen_rollouts\n",
      "    yield self.sample()\n",
      "  File \"/home/azharichenko/.local/share/virtualenvs/kelly-criterion-rl-xIioxHR7/lib/python3.8/site-packages/ray/rllib/evaluation/rollout_worker.py\", line 563, in sample\n",
      "    batches = [self.input_reader.next()]\n",
      "  File \"/home/azharichenko/.local/share/virtualenvs/kelly-criterion-rl-xIioxHR7/lib/python3.8/site-packages/ray/rllib/evaluation/sampler.py\", line 71, in next\n",
      "    batches = [self.get_data()]\n",
      "  File \"/home/azharichenko/.local/share/virtualenvs/kelly-criterion-rl-xIioxHR7/lib/python3.8/site-packages/ray/rllib/evaluation/sampler.py\", line 181, in get_data\n",
      "    item = next(self.rollout_provider)\n",
      "  File \"/home/azharichenko/.local/share/virtualenvs/kelly-criterion-rl-xIioxHR7/lib/python3.8/site-packages/ray/rllib/evaluation/sampler.py\", line 544, in _env_runner\n",
      "    eval_results = _do_policy_eval(\n",
      "  File \"/home/azharichenko/.local/share/virtualenvs/kelly-criterion-rl-xIioxHR7/lib/python3.8/site-packages/ray/rllib/evaluation/sampler.py\", line 911, in _do_policy_eval\n",
      "    eval_results[policy_id] = policy.compute_actions(\n",
      "  File \"/home/azharichenko/.local/share/virtualenvs/kelly-criterion-rl-xIioxHR7/lib/python3.8/site-packages/ray/rllib/policy/torch_policy.py\", line 158, in compute_actions\n",
      "    self._compute_action_helper(\n",
      "  File \"/home/azharichenko/.local/share/virtualenvs/kelly-criterion-rl-xIioxHR7/lib/python3.8/site-packages/ray/rllib/policy/torch_policy.py\", line 249, in _compute_action_helper\n",
      "    self.exploration.get_exploration_action(\n",
      "  File \"/home/azharichenko/.local/share/virtualenvs/kelly-criterion-rl-xIioxHR7/lib/python3.8/site-packages/ray/rllib/utils/exploration/stochastic_sampling.py\", line 43, in get_exploration_action\n",
      "    return self._get_torch_exploration_action(action_distribution,\n",
      "  File \"/home/azharichenko/.local/share/virtualenvs/kelly-criterion-rl-xIioxHR7/lib/python3.8/site-packages/ray/rllib/utils/exploration/stochastic_sampling.py\", line 71, in _get_torch_exploration_action\n",
      "    action = action_dist.sample()\n",
      "  File \"/home/azharichenko/.local/share/virtualenvs/kelly-criterion-rl-xIioxHR7/lib/python3.8/site-packages/ray/rllib/models/torch/torch_action_dist.py\", line 407, in sample\n",
      "    return tree.map_structure(lambda s: s.sample(), child_distributions)\n",
      "  File \"/home/azharichenko/.local/share/virtualenvs/kelly-criterion-rl-xIioxHR7/lib/python3.8/site-packages/tree/__init__.py\", line 516, in map_structure\n",
      "    [func(*args) for args in zip(*map(flatten, structures))])\n",
      "  File \"/home/azharichenko/.local/share/virtualenvs/kelly-criterion-rl-xIioxHR7/lib/python3.8/site-packages/tree/__init__.py\", line 516, in <listcomp>\n",
      "    [func(*args) for args in zip(*map(flatten, structures))])\n",
      "  File \"/home/azharichenko/.local/share/virtualenvs/kelly-criterion-rl-xIioxHR7/lib/python3.8/site-packages/ray/rllib/models/torch/torch_action_dist.py\", line 407, in <lambda>\n",
      "    return tree.map_structure(lambda s: s.sample(), child_distributions)\n",
      "  File \"/home/azharichenko/.local/share/virtualenvs/kelly-criterion-rl-xIioxHR7/lib/python3.8/site-packages/ray/rllib/models/torch/torch_action_dist.py\", line 44, in sample\n",
      "    self.last_sample = self.dist.sample()\n",
      "  File \"/home/azharichenko/.local/share/virtualenvs/kelly-criterion-rl-xIioxHR7/lib/python3.8/site-packages/torch/distributions/categorical.py\", line 106, in sample\n",
      "    samples_2d = torch.multinomial(probs_2d, sample_shape.numel(), True).T\n",
      "RuntimeError: invalid multinomial distribution (encountering probability entry < 0)\n"
     ]
    },
    {
     "data": {
      "text/html": [
       "== Status ==<br>Memory usage on this node: 12.1/15.8 GiB<br>Using FIFO scheduling algorithm.<br>Resources requested: 0/8 CPUs, 0/0 GPUs, 0.0/2.49 GiB heap, 0.0/0.83 GiB objects<br>Result logdir: /mnt/c/Users/Alex/Projects/kelly-criterion-rl/A3C<br>Number of trials: 1 (1 ERROR)<br><table>\n",
       "<thead>\n",
       "<tr><th>Trial name              </th><th>status  </th><th>loc  </th><th style=\"text-align: right;\">  iter</th><th style=\"text-align: right;\">  total time (s)</th><th style=\"text-align: right;\">    ts</th><th style=\"text-align: right;\">  reward</th></tr>\n",
       "</thead>\n",
       "<tbody>\n",
       "<tr><td>A3C_KellyEnv_6dd51_00000</td><td>ERROR   </td><td>     </td><td style=\"text-align: right;\">    38</td><td style=\"text-align: right;\">         188.195</td><td style=\"text-align: right;\">346100</td><td style=\"text-align: right;\"> 288.109</td></tr>\n",
       "</tbody>\n",
       "</table><br>Number of errored trials: 1<br><table>\n",
       "<thead>\n",
       "<tr><th>Trial name              </th><th style=\"text-align: right;\">  # failures</th><th>error file                                                                                            </th></tr>\n",
       "</thead>\n",
       "<tbody>\n",
       "<tr><td>A3C_KellyEnv_6dd51_00000</td><td style=\"text-align: right;\">           1</td><td>/mnt/c/Users/Alex/Projects/kelly-criterion-rl/A3C/A3C_KellyEnv_0_2020-09-30_20-31-21b_rq8i6x/error.txt</td></tr>\n",
       "</tbody>\n",
       "</table><br>"
      ],
      "text/plain": [
       "<IPython.core.display.HTML object>"
      ]
     },
     "metadata": {},
     "output_type": "display_data"
    },
    {
     "ename": "TuneError",
     "evalue": "('Trials did not complete', [A3C_KellyEnv_6dd51_00000])",
     "output_type": "error",
     "traceback": [
      "\u001b[0;31m---------------------------------------------------------------------------\u001b[0m",
      "\u001b[0;31mTuneError\u001b[0m                                 Traceback (most recent call last)",
      "\u001b[0;32m<ipython-input-5-746e133a3650>\u001b[0m in \u001b[0;36m<module>\u001b[0;34m\u001b[0m\n\u001b[1;32m      3\u001b[0m \u001b[0;32mfrom\u001b[0m \u001b[0mray\u001b[0m\u001b[0;34m.\u001b[0m\u001b[0mrllib\u001b[0m\u001b[0;34m.\u001b[0m\u001b[0magents\u001b[0m\u001b[0;34m.\u001b[0m\u001b[0mppo\u001b[0m\u001b[0;34m.\u001b[0m\u001b[0mppo\u001b[0m \u001b[0;32mimport\u001b[0m \u001b[0mPPOTrainer\u001b[0m\u001b[0;34m\u001b[0m\u001b[0;34m\u001b[0m\u001b[0m\n\u001b[1;32m      4\u001b[0m \u001b[0;32mfrom\u001b[0m \u001b[0mray\u001b[0m\u001b[0;34m.\u001b[0m\u001b[0mrllib\u001b[0m\u001b[0;34m.\u001b[0m\u001b[0magents\u001b[0m\u001b[0;34m.\u001b[0m\u001b[0mimpala\u001b[0m\u001b[0;34m.\u001b[0m\u001b[0mimpala\u001b[0m \u001b[0;32mimport\u001b[0m \u001b[0mImpalaTrainer\u001b[0m\u001b[0;34m\u001b[0m\u001b[0;34m\u001b[0m\u001b[0m\n\u001b[0;32m----> 5\u001b[0;31m \u001b[0mtune\u001b[0m\u001b[0;34m.\u001b[0m\u001b[0mrun\u001b[0m\u001b[0;34m(\u001b[0m\u001b[0mA3CTrainer\u001b[0m  \u001b[0;34m,\u001b[0m \u001b[0mconfig\u001b[0m\u001b[0;34m=\u001b[0m\u001b[0;34m{\u001b[0m\u001b[0;34m\"env\"\u001b[0m\u001b[0;34m:\u001b[0m \u001b[0mKellyEnv\u001b[0m\u001b[0;34m,\u001b[0m \u001b[0;34m\"framework\"\u001b[0m\u001b[0;34m:\u001b[0m \u001b[0;34m\"torch\"\u001b[0m\u001b[0;34m,\u001b[0m \u001b[0;34m\"num_workers\"\u001b[0m\u001b[0;34m:\u001b[0m \u001b[0;36m2\u001b[0m\u001b[0;34m,\u001b[0m \u001b[0;34m\"num_envs_per_worker\"\u001b[0m\u001b[0;34m:\u001b[0m \u001b[0;36m10\u001b[0m\u001b[0;34m}\u001b[0m\u001b[0;34m,\u001b[0m \u001b[0mstop\u001b[0m\u001b[0;34m=\u001b[0m\u001b[0;34m{\u001b[0m\u001b[0;34m\"timesteps_total\"\u001b[0m\u001b[0;34m:\u001b[0m \u001b[0;36m500000\u001b[0m\u001b[0;34m}\u001b[0m\u001b[0;34m,\u001b[0m \u001b[0mcheckpoint_at_end\u001b[0m\u001b[0;34m=\u001b[0m\u001b[0;32mTrue\u001b[0m\u001b[0;34m,\u001b[0m \u001b[0mlocal_dir\u001b[0m\u001b[0;34m=\u001b[0m\u001b[0;34m\".\"\u001b[0m\u001b[0;34m)\u001b[0m\u001b[0;34m\u001b[0m\u001b[0;34m\u001b[0m\u001b[0m\n\u001b[0m",
      "\u001b[0;32m~/.local/share/virtualenvs/kelly-criterion-rl-xIioxHR7/lib/python3.8/site-packages/ray/tune/tune.py\u001b[0m in \u001b[0;36mrun\u001b[0;34m(run_or_experiment, name, stop, config, resources_per_trial, num_samples, local_dir, upload_dir, trial_name_creator, loggers, sync_to_cloud, sync_to_driver, checkpoint_freq, checkpoint_at_end, sync_on_checkpoint, keep_checkpoints_num, checkpoint_score_attr, global_checkpoint_period, export_formats, max_failures, fail_fast, restore, search_alg, scheduler, with_server, server_port, verbose, progress_reporter, resume, queue_trials, reuse_actors, trial_executor, raise_on_failed_trial, return_trials, ray_auto_init)\u001b[0m\n\u001b[1;32m    354\u001b[0m     \u001b[0;32mif\u001b[0m \u001b[0mincomplete_trials\u001b[0m\u001b[0;34m:\u001b[0m\u001b[0;34m\u001b[0m\u001b[0;34m\u001b[0m\u001b[0m\n\u001b[1;32m    355\u001b[0m         \u001b[0;32mif\u001b[0m \u001b[0mraise_on_failed_trial\u001b[0m\u001b[0;34m:\u001b[0m\u001b[0;34m\u001b[0m\u001b[0;34m\u001b[0m\u001b[0m\n\u001b[0;32m--> 356\u001b[0;31m             \u001b[0;32mraise\u001b[0m \u001b[0mTuneError\u001b[0m\u001b[0;34m(\u001b[0m\u001b[0;34m\"Trials did not complete\"\u001b[0m\u001b[0;34m,\u001b[0m \u001b[0mincomplete_trials\u001b[0m\u001b[0;34m)\u001b[0m\u001b[0;34m\u001b[0m\u001b[0;34m\u001b[0m\u001b[0m\n\u001b[0m\u001b[1;32m    357\u001b[0m         \u001b[0;32melse\u001b[0m\u001b[0;34m:\u001b[0m\u001b[0;34m\u001b[0m\u001b[0;34m\u001b[0m\u001b[0m\n\u001b[1;32m    358\u001b[0m             \u001b[0mlogger\u001b[0m\u001b[0;34m.\u001b[0m\u001b[0merror\u001b[0m\u001b[0;34m(\u001b[0m\u001b[0;34m\"Trials did not complete: %s\"\u001b[0m\u001b[0;34m,\u001b[0m \u001b[0mincomplete_trials\u001b[0m\u001b[0;34m)\u001b[0m\u001b[0;34m\u001b[0m\u001b[0;34m\u001b[0m\u001b[0m\n",
      "\u001b[0;31mTuneError\u001b[0m: ('Trials did not complete', [A3C_KellyEnv_6dd51_00000])"
     ]
    }
   ],
   "source": [
    "from ray import tune\n",
    "from ray.rllib.agents.a3c.a3c import A3CTrainer  \n",
    "from ray.rllib.agents.ppo.ppo import PPOTrainer  \n",
    "from ray.rllib.agents.impala.impala import ImpalaTrainer\n",
    "tune.run(A3CTrainer  , config={\"env\": KellyEnv, \"framework\": \"torch\", \"num_workers\": 2, \"num_envs_per_worker\": 10}, stop={\"timesteps_total\": 500000}, checkpoint_at_end=True, local_dir=\".\") "
   ]
  },
  {
   "cell_type": "code",
   "execution_count": 3,
   "metadata": {},
   "outputs": [
    {
     "name": "stderr",
     "output_type": "stream",
     "text": [
      "2020-09-30 20:19:14,936\tINFO trainer.py:630 -- Current log_level is WARN. For more information, set 'log_level': 'INFO' / 'DEBUG' or use the -v and -vv flags.\n",
      "/home/azharichenko/.local/share/virtualenvs/kelly-criterion-rl-xIioxHR7/lib/python3.8/site-packages/gym/logger.py:30: UserWarning: \u001b[33mWARN: Box bound precision lowered by casting to float32\u001b[0m\n",
      "  warnings.warn(colorize('%s: %s'%('WARN', msg % args), 'yellow'))\n",
      "2020-09-30 20:19:14,996\tWARNING util.py:37 -- Install gputil for GPU system monitoring.\n",
      "2020-09-30 20:19:15,009\tINFO trainable.py:472 -- Restored on 192.168.86.161 from checkpoint: checkpoint_125/checkpoint-125\n",
      "2020-09-30 20:19:15,010\tINFO trainable.py:480 -- Current state after restoring: {'_iteration': 125, '_timesteps_total': None, '_time_total': 1369.9788887500763, '_episodes_total': 8126}\n"
     ]
    }
   ],
   "source": [
    "agent = PPOTrainer(env=KellyEnv, config={\"framework\": \"torch\"})\n",
    "agent.restore(\"checkpoint_125/checkpoint-125\")"
   ]
  },
  {
   "cell_type": "code",
   "execution_count": 4,
   "metadata": {},
   "outputs": [
    {
     "data": {
      "text/plain": [
       "(1, array([0.5219936], dtype=float32))"
      ]
     },
     "execution_count": 4,
     "metadata": {},
     "output_type": "execute_result"
    }
   ],
   "source": [
    "agent.compute_action([25.0, 0.6])"
   ]
  },
  {
   "cell_type": "code",
   "execution_count": 14,
   "metadata": {},
   "outputs": [
    {
     "data": {
      "application/vnd.plotly.v1+json": {
       "config": {
        "plotlyServerURL": "https://plot.ly"
       },
       "data": [
        {
         "type": "scatter",
         "x": [
          0,
          1,
          2,
          3,
          4,
          5,
          6,
          7,
          8,
          9,
          10,
          11,
          12,
          13,
          14,
          15,
          16,
          17,
          18,
          19,
          20,
          21,
          22,
          23,
          24,
          25,
          26,
          27,
          28,
          29,
          30,
          31,
          32,
          33,
          34,
          35,
          36,
          37,
          38,
          39,
          40,
          41,
          42,
          43,
          44,
          45,
          46,
          47,
          48,
          49,
          50,
          51,
          52,
          53,
          54,
          55,
          56,
          57,
          58,
          59,
          60,
          61,
          62,
          63,
          64,
          65,
          66,
          67,
          68,
          69,
          70,
          71,
          72,
          73,
          74
         ],
         "y": [
          25,
          40.44,
          62.13,
          25.95,
          38.04,
          56.5,
          19.75,
          29.26,
          13.13,
          7.06,
          9.95,
          14.5,
          20.37,
          9.34,
          5.02,
          7.25,
          3.71,
          5.34,
          7.79,
          4.3,
          2.29,
          1.35,
          1.88,
          2.61,
          1.48,
          2.06,
          2.9,
          4.17,
          6.19,
          9.33,
          4.83,
          2.63,
          3.92,
          2.09,
          1.19,
          1.75,
          2.42,
          1.38,
          1.97,
          2.85,
          1.61,
          2.14,
          2.95,
          4.3,
          6.11,
          9.04,
          4.24,
          2.46,
          3.46,
          5.09,
          7.36,
          3.69,
          2.1,
          1.18,
          1.56,
          0.89,
          1.2,
          0.75,
          0.47,
          0.28,
          0.16,
          0.1,
          0.15,
          0.22,
          0.11,
          0.06,
          0.09,
          0.05,
          0.08,
          0.05,
          0.07,
          0.03,
          0.01,
          0.01,
          0
         ]
        }
       ],
       "layout": {
        "autosize": true,
        "template": {
         "data": {
          "bar": [
           {
            "error_x": {
             "color": "#2a3f5f"
            },
            "error_y": {
             "color": "#2a3f5f"
            },
            "marker": {
             "line": {
              "color": "#E5ECF6",
              "width": 0.5
             }
            },
            "type": "bar"
           }
          ],
          "barpolar": [
           {
            "marker": {
             "line": {
              "color": "#E5ECF6",
              "width": 0.5
             }
            },
            "type": "barpolar"
           }
          ],
          "carpet": [
           {
            "aaxis": {
             "endlinecolor": "#2a3f5f",
             "gridcolor": "white",
             "linecolor": "white",
             "minorgridcolor": "white",
             "startlinecolor": "#2a3f5f"
            },
            "baxis": {
             "endlinecolor": "#2a3f5f",
             "gridcolor": "white",
             "linecolor": "white",
             "minorgridcolor": "white",
             "startlinecolor": "#2a3f5f"
            },
            "type": "carpet"
           }
          ],
          "choropleth": [
           {
            "colorbar": {
             "outlinewidth": 0,
             "ticks": ""
            },
            "type": "choropleth"
           }
          ],
          "contour": [
           {
            "colorbar": {
             "outlinewidth": 0,
             "ticks": ""
            },
            "colorscale": [
             [
              0,
              "#0d0887"
             ],
             [
              0.1111111111111111,
              "#46039f"
             ],
             [
              0.2222222222222222,
              "#7201a8"
             ],
             [
              0.3333333333333333,
              "#9c179e"
             ],
             [
              0.4444444444444444,
              "#bd3786"
             ],
             [
              0.5555555555555556,
              "#d8576b"
             ],
             [
              0.6666666666666666,
              "#ed7953"
             ],
             [
              0.7777777777777778,
              "#fb9f3a"
             ],
             [
              0.8888888888888888,
              "#fdca26"
             ],
             [
              1,
              "#f0f921"
             ]
            ],
            "type": "contour"
           }
          ],
          "contourcarpet": [
           {
            "colorbar": {
             "outlinewidth": 0,
             "ticks": ""
            },
            "type": "contourcarpet"
           }
          ],
          "heatmap": [
           {
            "colorbar": {
             "outlinewidth": 0,
             "ticks": ""
            },
            "colorscale": [
             [
              0,
              "#0d0887"
             ],
             [
              0.1111111111111111,
              "#46039f"
             ],
             [
              0.2222222222222222,
              "#7201a8"
             ],
             [
              0.3333333333333333,
              "#9c179e"
             ],
             [
              0.4444444444444444,
              "#bd3786"
             ],
             [
              0.5555555555555556,
              "#d8576b"
             ],
             [
              0.6666666666666666,
              "#ed7953"
             ],
             [
              0.7777777777777778,
              "#fb9f3a"
             ],
             [
              0.8888888888888888,
              "#fdca26"
             ],
             [
              1,
              "#f0f921"
             ]
            ],
            "type": "heatmap"
           }
          ],
          "heatmapgl": [
           {
            "colorbar": {
             "outlinewidth": 0,
             "ticks": ""
            },
            "colorscale": [
             [
              0,
              "#0d0887"
             ],
             [
              0.1111111111111111,
              "#46039f"
             ],
             [
              0.2222222222222222,
              "#7201a8"
             ],
             [
              0.3333333333333333,
              "#9c179e"
             ],
             [
              0.4444444444444444,
              "#bd3786"
             ],
             [
              0.5555555555555556,
              "#d8576b"
             ],
             [
              0.6666666666666666,
              "#ed7953"
             ],
             [
              0.7777777777777778,
              "#fb9f3a"
             ],
             [
              0.8888888888888888,
              "#fdca26"
             ],
             [
              1,
              "#f0f921"
             ]
            ],
            "type": "heatmapgl"
           }
          ],
          "histogram": [
           {
            "marker": {
             "colorbar": {
              "outlinewidth": 0,
              "ticks": ""
             }
            },
            "type": "histogram"
           }
          ],
          "histogram2d": [
           {
            "colorbar": {
             "outlinewidth": 0,
             "ticks": ""
            },
            "colorscale": [
             [
              0,
              "#0d0887"
             ],
             [
              0.1111111111111111,
              "#46039f"
             ],
             [
              0.2222222222222222,
              "#7201a8"
             ],
             [
              0.3333333333333333,
              "#9c179e"
             ],
             [
              0.4444444444444444,
              "#bd3786"
             ],
             [
              0.5555555555555556,
              "#d8576b"
             ],
             [
              0.6666666666666666,
              "#ed7953"
             ],
             [
              0.7777777777777778,
              "#fb9f3a"
             ],
             [
              0.8888888888888888,
              "#fdca26"
             ],
             [
              1,
              "#f0f921"
             ]
            ],
            "type": "histogram2d"
           }
          ],
          "histogram2dcontour": [
           {
            "colorbar": {
             "outlinewidth": 0,
             "ticks": ""
            },
            "colorscale": [
             [
              0,
              "#0d0887"
             ],
             [
              0.1111111111111111,
              "#46039f"
             ],
             [
              0.2222222222222222,
              "#7201a8"
             ],
             [
              0.3333333333333333,
              "#9c179e"
             ],
             [
              0.4444444444444444,
              "#bd3786"
             ],
             [
              0.5555555555555556,
              "#d8576b"
             ],
             [
              0.6666666666666666,
              "#ed7953"
             ],
             [
              0.7777777777777778,
              "#fb9f3a"
             ],
             [
              0.8888888888888888,
              "#fdca26"
             ],
             [
              1,
              "#f0f921"
             ]
            ],
            "type": "histogram2dcontour"
           }
          ],
          "mesh3d": [
           {
            "colorbar": {
             "outlinewidth": 0,
             "ticks": ""
            },
            "type": "mesh3d"
           }
          ],
          "parcoords": [
           {
            "line": {
             "colorbar": {
              "outlinewidth": 0,
              "ticks": ""
             }
            },
            "type": "parcoords"
           }
          ],
          "pie": [
           {
            "automargin": true,
            "type": "pie"
           }
          ],
          "scatter": [
           {
            "marker": {
             "colorbar": {
              "outlinewidth": 0,
              "ticks": ""
             }
            },
            "type": "scatter"
           }
          ],
          "scatter3d": [
           {
            "line": {
             "colorbar": {
              "outlinewidth": 0,
              "ticks": ""
             }
            },
            "marker": {
             "colorbar": {
              "outlinewidth": 0,
              "ticks": ""
             }
            },
            "type": "scatter3d"
           }
          ],
          "scattercarpet": [
           {
            "marker": {
             "colorbar": {
              "outlinewidth": 0,
              "ticks": ""
             }
            },
            "type": "scattercarpet"
           }
          ],
          "scattergeo": [
           {
            "marker": {
             "colorbar": {
              "outlinewidth": 0,
              "ticks": ""
             }
            },
            "type": "scattergeo"
           }
          ],
          "scattergl": [
           {
            "marker": {
             "colorbar": {
              "outlinewidth": 0,
              "ticks": ""
             }
            },
            "type": "scattergl"
           }
          ],
          "scattermapbox": [
           {
            "marker": {
             "colorbar": {
              "outlinewidth": 0,
              "ticks": ""
             }
            },
            "type": "scattermapbox"
           }
          ],
          "scatterpolar": [
           {
            "marker": {
             "colorbar": {
              "outlinewidth": 0,
              "ticks": ""
             }
            },
            "type": "scatterpolar"
           }
          ],
          "scatterpolargl": [
           {
            "marker": {
             "colorbar": {
              "outlinewidth": 0,
              "ticks": ""
             }
            },
            "type": "scatterpolargl"
           }
          ],
          "scatterternary": [
           {
            "marker": {
             "colorbar": {
              "outlinewidth": 0,
              "ticks": ""
             }
            },
            "type": "scatterternary"
           }
          ],
          "surface": [
           {
            "colorbar": {
             "outlinewidth": 0,
             "ticks": ""
            },
            "colorscale": [
             [
              0,
              "#0d0887"
             ],
             [
              0.1111111111111111,
              "#46039f"
             ],
             [
              0.2222222222222222,
              "#7201a8"
             ],
             [
              0.3333333333333333,
              "#9c179e"
             ],
             [
              0.4444444444444444,
              "#bd3786"
             ],
             [
              0.5555555555555556,
              "#d8576b"
             ],
             [
              0.6666666666666666,
              "#ed7953"
             ],
             [
              0.7777777777777778,
              "#fb9f3a"
             ],
             [
              0.8888888888888888,
              "#fdca26"
             ],
             [
              1,
              "#f0f921"
             ]
            ],
            "type": "surface"
           }
          ],
          "table": [
           {
            "cells": {
             "fill": {
              "color": "#EBF0F8"
             },
             "line": {
              "color": "white"
             }
            },
            "header": {
             "fill": {
              "color": "#C8D4E3"
             },
             "line": {
              "color": "white"
             }
            },
            "type": "table"
           }
          ]
         },
         "layout": {
          "annotationdefaults": {
           "arrowcolor": "#2a3f5f",
           "arrowhead": 0,
           "arrowwidth": 1
          },
          "coloraxis": {
           "colorbar": {
            "outlinewidth": 0,
            "ticks": ""
           }
          },
          "colorscale": {
           "diverging": [
            [
             0,
             "#8e0152"
            ],
            [
             0.1,
             "#c51b7d"
            ],
            [
             0.2,
             "#de77ae"
            ],
            [
             0.3,
             "#f1b6da"
            ],
            [
             0.4,
             "#fde0ef"
            ],
            [
             0.5,
             "#f7f7f7"
            ],
            [
             0.6,
             "#e6f5d0"
            ],
            [
             0.7,
             "#b8e186"
            ],
            [
             0.8,
             "#7fbc41"
            ],
            [
             0.9,
             "#4d9221"
            ],
            [
             1,
             "#276419"
            ]
           ],
           "sequential": [
            [
             0,
             "#0d0887"
            ],
            [
             0.1111111111111111,
             "#46039f"
            ],
            [
             0.2222222222222222,
             "#7201a8"
            ],
            [
             0.3333333333333333,
             "#9c179e"
            ],
            [
             0.4444444444444444,
             "#bd3786"
            ],
            [
             0.5555555555555556,
             "#d8576b"
            ],
            [
             0.6666666666666666,
             "#ed7953"
            ],
            [
             0.7777777777777778,
             "#fb9f3a"
            ],
            [
             0.8888888888888888,
             "#fdca26"
            ],
            [
             1,
             "#f0f921"
            ]
           ],
           "sequentialminus": [
            [
             0,
             "#0d0887"
            ],
            [
             0.1111111111111111,
             "#46039f"
            ],
            [
             0.2222222222222222,
             "#7201a8"
            ],
            [
             0.3333333333333333,
             "#9c179e"
            ],
            [
             0.4444444444444444,
             "#bd3786"
            ],
            [
             0.5555555555555556,
             "#d8576b"
            ],
            [
             0.6666666666666666,
             "#ed7953"
            ],
            [
             0.7777777777777778,
             "#fb9f3a"
            ],
            [
             0.8888888888888888,
             "#fdca26"
            ],
            [
             1,
             "#f0f921"
            ]
           ]
          },
          "colorway": [
           "#636efa",
           "#EF553B",
           "#00cc96",
           "#ab63fa",
           "#FFA15A",
           "#19d3f3",
           "#FF6692",
           "#B6E880",
           "#FF97FF",
           "#FECB52"
          ],
          "font": {
           "color": "#2a3f5f"
          },
          "geo": {
           "bgcolor": "white",
           "lakecolor": "white",
           "landcolor": "#E5ECF6",
           "showlakes": true,
           "showland": true,
           "subunitcolor": "white"
          },
          "hoverlabel": {
           "align": "left"
          },
          "hovermode": "closest",
          "mapbox": {
           "style": "light"
          },
          "paper_bgcolor": "white",
          "plot_bgcolor": "#E5ECF6",
          "polar": {
           "angularaxis": {
            "gridcolor": "white",
            "linecolor": "white",
            "ticks": ""
           },
           "bgcolor": "#E5ECF6",
           "radialaxis": {
            "gridcolor": "white",
            "linecolor": "white",
            "ticks": ""
           }
          },
          "scene": {
           "xaxis": {
            "backgroundcolor": "#E5ECF6",
            "gridcolor": "white",
            "gridwidth": 2,
            "linecolor": "white",
            "showbackground": true,
            "ticks": "",
            "zerolinecolor": "white"
           },
           "yaxis": {
            "backgroundcolor": "#E5ECF6",
            "gridcolor": "white",
            "gridwidth": 2,
            "linecolor": "white",
            "showbackground": true,
            "ticks": "",
            "zerolinecolor": "white"
           },
           "zaxis": {
            "backgroundcolor": "#E5ECF6",
            "gridcolor": "white",
            "gridwidth": 2,
            "linecolor": "white",
            "showbackground": true,
            "ticks": "",
            "zerolinecolor": "white"
           }
          },
          "shapedefaults": {
           "line": {
            "color": "#2a3f5f"
           }
          },
          "ternary": {
           "aaxis": {
            "gridcolor": "white",
            "linecolor": "white",
            "ticks": ""
           },
           "baxis": {
            "gridcolor": "white",
            "linecolor": "white",
            "ticks": ""
           },
           "bgcolor": "#E5ECF6",
           "caxis": {
            "gridcolor": "white",
            "linecolor": "white",
            "ticks": ""
           }
          },
          "title": {
           "x": 0.05
          },
          "xaxis": {
           "automargin": true,
           "gridcolor": "white",
           "linecolor": "white",
           "ticks": "",
           "title": {
            "standoff": 15
           },
           "zerolinecolor": "white",
           "zerolinewidth": 2
          },
          "yaxis": {
           "automargin": true,
           "gridcolor": "white",
           "linecolor": "white",
           "ticks": "",
           "title": {
            "standoff": 15
           },
           "zerolinecolor": "white",
           "zerolinewidth": 2
          }
         }
        },
        "xaxis": {
         "autorange": true,
         "range": [
          0,
          74
         ],
         "type": "linear"
        },
        "yaxis": {
         "autorange": true,
         "range": [
          -3.4516666666666667,
          65.58166666666666
         ],
         "type": "linear"
        }
       }
      },
      "image/png": "[encoded data removed]",
      "text/html": [
       "<div>                            <div id=\"3611757a-578c-4f9b-b46f-8d66b9033dad\" class=\"plotly-graph-div\" style=\"height:525px; width:100%;\"></div>            <script type=\"text/javascript\">                require([\"plotly\"], function(Plotly) {                    window.PLOTLYENV=window.PLOTLYENV || {};                                    if (document.getElementById(\"3611757a-578c-4f9b-b46f-8d66b9033dad\")) {                    Plotly.newPlot(                        \"3611757a-578c-4f9b-b46f-8d66b9033dad\",                        [{\"type\": \"scatter\", \"x\": [0, 1, 2, 3, 4, 5, 6, 7, 8, 9, 10, 11, 12, 13, 14, 15, 16, 17, 18, 19, 20, 21, 22, 23, 24, 25, 26, 27, 28, 29, 30, 31, 32, 33, 34, 35, 36, 37, 38, 39, 40, 41, 42, 43, 44, 45, 46, 47, 48, 49, 50, 51, 52, 53, 54, 55, 56, 57, 58, 59, 60, 61, 62, 63, 64, 65, 66, 67, 68, 69, 70, 71, 72, 73, 74], \"y\": [25.0, 40.44, 62.13, 25.95, 38.04, 56.5, 19.75, 29.26, 13.13, 7.06, 9.95, 14.5, 20.37, 9.34, 5.02, 7.25, 3.71, 5.34, 7.79, 4.3, 2.29, 1.35, 1.88, 2.61, 1.48, 2.06, 2.9, 4.17, 6.19, 9.33, 4.83, 2.63, 3.92, 2.09, 1.19, 1.75, 2.42, 1.38, 1.97, 2.85, 1.61, 2.14, 2.95, 4.3, 6.11, 9.04, 4.24, 2.46, 3.46, 5.09, 7.36, 3.69, 2.1, 1.18, 1.56, 0.89, 1.2, 0.75, 0.47, 0.28, 0.16, 0.1, 0.15, 0.22, 0.11, 0.06, 0.09, 0.05, 0.08, 0.05, 0.07, 0.03, 0.01, 0.01, 0.0]}],                        {\"template\": {\"data\": {\"bar\": [{\"error_x\": {\"color\": \"#2a3f5f\"}, \"error_y\": {\"color\": \"#2a3f5f\"}, \"marker\": {\"line\": {\"color\": \"#E5ECF6\", \"width\": 0.5}}, \"type\": \"bar\"}], \"barpolar\": [{\"marker\": {\"line\": {\"color\": \"#E5ECF6\", \"width\": 0.5}}, \"type\": \"barpolar\"}], \"carpet\": [{\"aaxis\": {\"endlinecolor\": \"#2a3f5f\", \"gridcolor\": \"white\", \"linecolor\": \"white\", \"minorgridcolor\": \"white\", \"startlinecolor\": \"#2a3f5f\"}, \"baxis\": {\"endlinecolor\": \"#2a3f5f\", \"gridcolor\": \"white\", \"linecolor\": \"white\", \"minorgridcolor\": \"white\", \"startlinecolor\": \"#2a3f5f\"}, \"type\": \"carpet\"}], \"choropleth\": [{\"colorbar\": {\"outlinewidth\": 0, \"ticks\": \"\"}, \"type\": \"choropleth\"}], \"contour\": [{\"colorbar\": {\"outlinewidth\": 0, \"ticks\": \"\"}, \"colorscale\": [[0.0, \"#0d0887\"], [0.1111111111111111, \"#46039f\"], [0.2222222222222222, \"#7201a8\"], [0.3333333333333333, \"#9c179e\"], [0.4444444444444444, \"#bd3786\"], [0.5555555555555556, \"#d8576b\"], [0.6666666666666666, \"#ed7953\"], [0.7777777777777778, \"#fb9f3a\"], [0.8888888888888888, \"#fdca26\"], [1.0, \"#f0f921\"]], \"type\": \"contour\"}], \"contourcarpet\": [{\"colorbar\": {\"outlinewidth\": 0, \"ticks\": \"\"}, \"type\": \"contourcarpet\"}], \"heatmap\": [{\"colorbar\": {\"outlinewidth\": 0, \"ticks\": \"\"}, \"colorscale\": [[0.0, \"#0d0887\"], [0.1111111111111111, \"#46039f\"], [0.2222222222222222, \"#7201a8\"], [0.3333333333333333, \"#9c179e\"], [0.4444444444444444, \"#bd3786\"], [0.5555555555555556, \"#d8576b\"], [0.6666666666666666, \"#ed7953\"], [0.7777777777777778, \"#fb9f3a\"], [0.8888888888888888, \"#fdca26\"], [1.0, \"#f0f921\"]], \"type\": \"heatmap\"}], \"heatmapgl\": [{\"colorbar\": {\"outlinewidth\": 0, \"ticks\": \"\"}, \"colorscale\": [[0.0, \"#0d0887\"], [0.1111111111111111, \"#46039f\"], [0.2222222222222222, \"#7201a8\"], [0.3333333333333333, \"#9c179e\"], [0.4444444444444444, \"#bd3786\"], [0.5555555555555556, \"#d8576b\"], [0.6666666666666666, \"#ed7953\"], [0.7777777777777778, \"#fb9f3a\"], [0.8888888888888888, \"#fdca26\"], [1.0, \"#f0f921\"]], \"type\": \"heatmapgl\"}], \"histogram\": [{\"marker\": {\"colorbar\": {\"outlinewidth\": 0, \"ticks\": \"\"}}, \"type\": \"histogram\"}], \"histogram2d\": [{\"colorbar\": {\"outlinewidth\": 0, \"ticks\": \"\"}, \"colorscale\": [[0.0, \"#0d0887\"], [0.1111111111111111, \"#46039f\"], [0.2222222222222222, \"#7201a8\"], [0.3333333333333333, \"#9c179e\"], [0.4444444444444444, \"#bd3786\"], [0.5555555555555556, \"#d8576b\"], [0.6666666666666666, \"#ed7953\"], [0.7777777777777778, \"#fb9f3a\"], [0.8888888888888888, \"#fdca26\"], [1.0, \"#f0f921\"]], \"type\": \"histogram2d\"}], \"histogram2dcontour\": [{\"colorbar\": {\"outlinewidth\": 0, \"ticks\": \"\"}, \"colorscale\": [[0.0, \"#0d0887\"], [0.1111111111111111, \"#46039f\"], [0.2222222222222222, \"#7201a8\"], [0.3333333333333333, \"#9c179e\"], [0.4444444444444444, \"#bd3786\"], [0.5555555555555556, \"#d8576b\"], [0.6666666666666666, \"#ed7953\"], [0.7777777777777778, \"#fb9f3a\"], [0.8888888888888888, \"#fdca26\"], [1.0, \"#f0f921\"]], \"type\": \"histogram2dcontour\"}], \"mesh3d\": [{\"colorbar\": {\"outlinewidth\": 0, \"ticks\": \"\"}, \"type\": \"mesh3d\"}], \"parcoords\": [{\"line\": {\"colorbar\": {\"outlinewidth\": 0, \"ticks\": \"\"}}, \"type\": \"parcoords\"}], \"pie\": [{\"automargin\": true, \"type\": \"pie\"}], \"scatter\": [{\"marker\": {\"colorbar\": {\"outlinewidth\": 0, \"ticks\": \"\"}}, \"type\": \"scatter\"}], \"scatter3d\": [{\"line\": {\"colorbar\": {\"outlinewidth\": 0, \"ticks\": \"\"}}, \"marker\": {\"colorbar\": {\"outlinewidth\": 0, \"ticks\": \"\"}}, \"type\": \"scatter3d\"}], \"scattercarpet\": [{\"marker\": {\"colorbar\": {\"outlinewidth\": 0, \"ticks\": \"\"}}, \"type\": \"scattercarpet\"}], \"scattergeo\": [{\"marker\": {\"colorbar\": {\"outlinewidth\": 0, \"ticks\": \"\"}}, \"type\": \"scattergeo\"}], \"scattergl\": [{\"marker\": {\"colorbar\": {\"outlinewidth\": 0, \"ticks\": \"\"}}, \"type\": \"scattergl\"}], \"scattermapbox\": [{\"marker\": {\"colorbar\": {\"outlinewidth\": 0, \"ticks\": \"\"}}, \"type\": \"scattermapbox\"}], \"scatterpolar\": [{\"marker\": {\"colorbar\": {\"outlinewidth\": 0, \"ticks\": \"\"}}, \"type\": \"scatterpolar\"}], \"scatterpolargl\": [{\"marker\": {\"colorbar\": {\"outlinewidth\": 0, \"ticks\": \"\"}}, \"type\": \"scatterpolargl\"}], \"scatterternary\": [{\"marker\": {\"colorbar\": {\"outlinewidth\": 0, \"ticks\": \"\"}}, \"type\": \"scatterternary\"}], \"surface\": [{\"colorbar\": {\"outlinewidth\": 0, \"ticks\": \"\"}, \"colorscale\": [[0.0, \"#0d0887\"], [0.1111111111111111, \"#46039f\"], [0.2222222222222222, \"#7201a8\"], [0.3333333333333333, \"#9c179e\"], [0.4444444444444444, \"#bd3786\"], [0.5555555555555556, \"#d8576b\"], [0.6666666666666666, \"#ed7953\"], [0.7777777777777778, \"#fb9f3a\"], [0.8888888888888888, \"#fdca26\"], [1.0, \"#f0f921\"]], \"type\": \"surface\"}], \"table\": [{\"cells\": {\"fill\": {\"color\": \"#EBF0F8\"}, \"line\": {\"color\": \"white\"}}, \"header\": {\"fill\": {\"color\": \"#C8D4E3\"}, \"line\": {\"color\": \"white\"}}, \"type\": \"table\"}]}, \"layout\": {\"annotationdefaults\": {\"arrowcolor\": \"#2a3f5f\", \"arrowhead\": 0, \"arrowwidth\": 1}, \"coloraxis\": {\"colorbar\": {\"outlinewidth\": 0, \"ticks\": \"\"}}, \"colorscale\": {\"diverging\": [[0, \"#8e0152\"], [0.1, \"#c51b7d\"], [0.2, \"#de77ae\"], [0.3, \"#f1b6da\"], [0.4, \"#fde0ef\"], [0.5, \"#f7f7f7\"], [0.6, \"#e6f5d0\"], [0.7, \"#b8e186\"], [0.8, \"#7fbc41\"], [0.9, \"#4d9221\"], [1, \"#276419\"]], \"sequential\": [[0.0, \"#0d0887\"], [0.1111111111111111, \"#46039f\"], [0.2222222222222222, \"#7201a8\"], [0.3333333333333333, \"#9c179e\"], [0.4444444444444444, \"#bd3786\"], [0.5555555555555556, \"#d8576b\"], [0.6666666666666666, \"#ed7953\"], [0.7777777777777778, \"#fb9f3a\"], [0.8888888888888888, \"#fdca26\"], [1.0, \"#f0f921\"]], \"sequentialminus\": [[0.0, \"#0d0887\"], [0.1111111111111111, \"#46039f\"], [0.2222222222222222, \"#7201a8\"], [0.3333333333333333, \"#9c179e\"], [0.4444444444444444, \"#bd3786\"], [0.5555555555555556, \"#d8576b\"], [0.6666666666666666, \"#ed7953\"], [0.7777777777777778, \"#fb9f3a\"], [0.8888888888888888, \"#fdca26\"], [1.0, \"#f0f921\"]]}, \"colorway\": [\"#636efa\", \"#EF553B\", \"#00cc96\", \"#ab63fa\", \"#FFA15A\", \"#19d3f3\", \"#FF6692\", \"#B6E880\", \"#FF97FF\", \"#FECB52\"], \"font\": {\"color\": \"#2a3f5f\"}, \"geo\": {\"bgcolor\": \"white\", \"lakecolor\": \"white\", \"landcolor\": \"#E5ECF6\", \"showlakes\": true, \"showland\": true, \"subunitcolor\": \"white\"}, \"hoverlabel\": {\"align\": \"left\"}, \"hovermode\": \"closest\", \"mapbox\": {\"style\": \"light\"}, \"paper_bgcolor\": \"white\", \"plot_bgcolor\": \"#E5ECF6\", \"polar\": {\"angularaxis\": {\"gridcolor\": \"white\", \"linecolor\": \"white\", \"ticks\": \"\"}, \"bgcolor\": \"#E5ECF6\", \"radialaxis\": {\"gridcolor\": \"white\", \"linecolor\": \"white\", \"ticks\": \"\"}}, \"scene\": {\"xaxis\": {\"backgroundcolor\": \"#E5ECF6\", \"gridcolor\": \"white\", \"gridwidth\": 2, \"linecolor\": \"white\", \"showbackground\": true, \"ticks\": \"\", \"zerolinecolor\": \"white\"}, \"yaxis\": {\"backgroundcolor\": \"#E5ECF6\", \"gridcolor\": \"white\", \"gridwidth\": 2, \"linecolor\": \"white\", \"showbackground\": true, \"ticks\": \"\", \"zerolinecolor\": \"white\"}, \"zaxis\": {\"backgroundcolor\": \"#E5ECF6\", \"gridcolor\": \"white\", \"gridwidth\": 2, \"linecolor\": \"white\", \"showbackground\": true, \"ticks\": \"\", \"zerolinecolor\": \"white\"}}, \"shapedefaults\": {\"line\": {\"color\": \"#2a3f5f\"}}, \"ternary\": {\"aaxis\": {\"gridcolor\": \"white\", \"linecolor\": \"white\", \"ticks\": \"\"}, \"baxis\": {\"gridcolor\": \"white\", \"linecolor\": \"white\", \"ticks\": \"\"}, \"bgcolor\": \"#E5ECF6\", \"caxis\": {\"gridcolor\": \"white\", \"linecolor\": \"white\", \"ticks\": \"\"}}, \"title\": {\"x\": 0.05}, \"xaxis\": {\"automargin\": true, \"gridcolor\": \"white\", \"linecolor\": \"white\", \"ticks\": \"\", \"title\": {\"standoff\": 15}, \"zerolinecolor\": \"white\", \"zerolinewidth\": 2}, \"yaxis\": {\"automargin\": true, \"gridcolor\": \"white\", \"linecolor\": \"white\", \"ticks\": \"\", \"title\": {\"standoff\": 15}, \"zerolinecolor\": \"white\", \"zerolinewidth\": 2}}}},                        {\"responsive\": true}                    ).then(function(){\n",
       "                            \n",
       "var gd = document.getElementById('3611757a-578c-4f9b-b46f-8d66b9033dad');\n",
       "var x = new MutationObserver(function (mutations, observer) {{\n",
       "        var display = window.getComputedStyle(gd).display;\n",
       "        if (!display || display === 'none') {{\n",
       "            console.log([gd, 'removed!']);\n",
       "            Plotly.purge(gd);\n",
       "            observer.disconnect();\n",
       "        }}\n",
       "}});\n",
       "\n",
       "// Listen for the removal of the full notebook cells\n",
       "var notebookContainer = gd.closest('#notebook-container');\n",
       "if (notebookContainer) {{\n",
       "    x.observe(notebookContainer, {childList: true});\n",
       "}}\n",
       "\n",
       "// Listen for the clearing of the current output cell\n",
       "var outputEl = gd.closest('.output');\n",
       "if (outputEl) {{\n",
       "    x.observe(outputEl, {childList: true});\n",
       "}}\n",
       "\n",
       "                        })                };                });            </script>        </div>"
      ]
     },
     "metadata": {},
     "output_type": "display_data"
    }
   ],
   "source": [
    "# Trained Agent\n",
    "observation = env.reset()\n",
    "for t in range(1000):\n",
    "    action = agent.compute_action(observation)\n",
    "    observation, reward, done, info = env.step(action)\n",
    "#     print(reward, action, observation)\n",
    "    if done:\n",
    "        break\n",
    "env.render()"
   ]
  },
  {
   "cell_type": "code",
   "execution_count": null,
   "metadata": {},
   "outputs": [],
   "source": []
  }
 ],
 "metadata": {
  "kernelspec": {
   "display_name": "Python 3 (ipykernel)",
   "language": "python",
   "name": "python3"
  },
  "language_info": {
   "codemirror_mode": {
    "name": "ipython",
    "version": 3
   },
   "file_extension": ".py",
   "mimetype": "text/x-python",
   "name": "python",
   "nbconvert_exporter": "python",
   "pygments_lexer": "ipython3",
   "version": "3.9.8"
  }
 },
 "nbformat": 4,
 "nbformat_minor": 4
}
